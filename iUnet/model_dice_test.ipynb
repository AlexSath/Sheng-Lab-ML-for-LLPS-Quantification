{
 "cells": [
  {
   "cell_type": "code",
   "execution_count": 1,
   "id": "35033989-3450-45d1-9c1c-c45f9dfcca14",
   "metadata": {},
   "outputs": [
    {
     "name": "stderr",
     "output_type": "stream",
     "text": [
      "2023-11-17 14:12:42.299608: I tensorflow/core/platform/cpu_feature_guard.cc:193] This TensorFlow binary is optimized with oneAPI Deep Neural Network Library (oneDNN) to use the following CPU instructions in performance-critical operations:  AVX2 FMA\n",
      "To enable them in other operations, rebuild TensorFlow with the appropriate compiler flags.\n"
     ]
    }
   ],
   "source": [
    "import models"
   ]
  },
  {
   "cell_type": "code",
   "execution_count": 2,
   "id": "39b5f403-fae2-4c2b-b90b-a704f493470b",
   "metadata": {},
   "outputs": [],
   "source": [
    "import tensorflow as tf"
   ]
  },
  {
   "cell_type": "code",
   "execution_count": 3,
   "id": "8de66ed2-195e-4a1c-b407-2149d79be1b3",
   "metadata": {},
   "outputs": [
    {
     "name": "stderr",
     "output_type": "stream",
     "text": [
      "2023-11-17 14:12:45.684712: I tensorflow/core/platform/cpu_feature_guard.cc:193] This TensorFlow binary is optimized with oneAPI Deep Neural Network Library (oneDNN) to use the following CPU instructions in performance-critical operations:  AVX2 FMA\n",
      "To enable them in other operations, rebuild TensorFlow with the appropriate compiler flags.\n",
      "2023-11-17 14:12:46.337501: I tensorflow/core/common_runtime/gpu/gpu_device.cc:1613] Created device /job:localhost/replica:0/task:0/device:GPU:0 with 11551 MB memory:  -> device: 0, name: Tesla K80, pci bus id: 0000:8a:00.0, compute capability: 3.7\n"
     ]
    },
    {
     "name": "stdout",
     "output_type": "stream",
     "text": [
      "WARNING:tensorflow:From /data/sathlerar/conda/envs/pecot/lib/python3.9/site-packages/tensorflow/python/autograph/pyct/static_analysis/liveness.py:83: Analyzer.lamba_check (from tensorflow.python.autograph.pyct.static_analysis.liveness) is deprecated and will be removed after 2023-09-23.\n",
      "Instructions for updating:\n",
      "Lambda fuctions will be no more assumed to be used in the statement where they are used, or at least in the same block. https://github.com/tensorflow/tensorflow/issues/56089\n",
      "Model: \"model\"\n",
      "__________________________________________________________________________________________________\n",
      " Layer (type)                   Output Shape         Param #     Connected to                     \n",
      "==================================================================================================\n",
      " input_1 (InputLayer)           [(None, 96, 96, 1)]  0           []                               \n",
      "                                                                                                  \n",
      " switch_normalization (SwitchNo  (None, 96, 96, 1)   10          ['input_1[0][0]']                \n",
      " rmalization)                                                                                     \n",
      "                                                                                                  \n",
      " max_pooling2d (MaxPooling2D)   (None, 96, 96, 1)    0           ['switch_normalization[0][0]']   \n",
      "                                                                                                  \n",
      " lambda (Lambda)                (None, 96, 96, 1)    0           ['switch_normalization[0][0]']   \n",
      "                                                                                                  \n",
      " concatenate (Concatenate)      (None, 96, 96, 2)    0           ['max_pooling2d[0][0]',          \n",
      "                                                                  'lambda[0][0]']                 \n",
      "                                                                                                  \n",
      " conv2d (Conv2D)                (None, 96, 96, 12)   120         ['switch_normalization[0][0]']   \n",
      "                                                                                                  \n",
      " conv2d_1 (Conv2D)              (None, 96, 96, 12)   24          ['switch_normalization[0][0]']   \n",
      "                                                                                                  \n",
      " conv2d_2 (Conv2D)              (None, 96, 96, 12)   312         ['switch_normalization[0][0]']   \n",
      "                                                                                                  \n",
      " conv2d_3 (Conv2D)              (None, 96, 96, 1)    3           ['concatenate[0][0]']            \n",
      "                                                                                                  \n",
      " activation (Activation)        (None, 96, 96, 12)   0           ['conv2d[0][0]']                 \n",
      "                                                                                                  \n",
      " activation_1 (Activation)      (None, 96, 96, 12)   0           ['conv2d_1[0][0]']               \n",
      "                                                                                                  \n",
      " activation_2 (Activation)      (None, 96, 96, 12)   0           ['conv2d_2[0][0]']               \n",
      "                                                                                                  \n",
      " activation_3 (Activation)      (None, 96, 96, 1)    0           ['conv2d_3[0][0]']               \n",
      "                                                                                                  \n",
      " concatenate_1 (Concatenate)    (None, 96, 96, 37)   0           ['activation[0][0]',             \n",
      "                                                                  'activation_1[0][0]',           \n",
      "                                                                  'activation_2[0][0]',           \n",
      "                                                                  'activation_3[0][0]']           \n",
      "                                                                                                  \n",
      " conv2d_4 (Conv2D)              (None, 96, 96, 12)   456         ['concatenate_1[0][0]']          \n",
      "                                                                                                  \n",
      " dropout (Dropout)              (None, 96, 96, 12)   0           ['conv2d_4[0][0]']               \n",
      "                                                                                                  \n",
      " max_pooling2d_1 (MaxPooling2D)  (None, 48, 48, 12)  0           ['dropout[0][0]']                \n",
      "                                                                                                  \n",
      " lambda_1 (Lambda)              (None, 48, 48, 12)   0           ['dropout[0][0]']                \n",
      "                                                                                                  \n",
      " concatenate_2 (Concatenate)    (None, 48, 48, 24)   0           ['max_pooling2d_1[0][0]',        \n",
      "                                                                  'lambda_1[0][0]']               \n",
      "                                                                                                  \n",
      " conv2d_5 (Conv2D)              (None, 48, 48, 12)   300         ['concatenate_2[0][0]']          \n",
      "                                                                                                  \n",
      " max_pooling2d_2 (MaxPooling2D)  (None, 48, 48, 12)  0           ['conv2d_5[0][0]']               \n",
      "                                                                                                  \n",
      " lambda_2 (Lambda)              (None, 48, 48, 12)   0           ['conv2d_5[0][0]']               \n",
      "                                                                                                  \n",
      " concatenate_3 (Concatenate)    (None, 48, 48, 24)   0           ['max_pooling2d_2[0][0]',        \n",
      "                                                                  'lambda_2[0][0]']               \n",
      "                                                                                                  \n",
      " conv2d_6 (Conv2D)              (None, 48, 48, 24)   2616        ['conv2d_5[0][0]']               \n",
      "                                                                                                  \n",
      " conv2d_7 (Conv2D)              (None, 48, 48, 24)   312         ['conv2d_5[0][0]']               \n",
      "                                                                                                  \n",
      " conv2d_8 (Conv2D)              (None, 48, 48, 24)   7224        ['conv2d_5[0][0]']               \n",
      "                                                                                                  \n",
      " conv2d_9 (Conv2D)              (None, 48, 48, 12)   300         ['concatenate_3[0][0]']          \n",
      "                                                                                                  \n",
      " activation_4 (Activation)      (None, 48, 48, 24)   0           ['conv2d_6[0][0]']               \n",
      "                                                                                                  \n",
      " activation_5 (Activation)      (None, 48, 48, 24)   0           ['conv2d_7[0][0]']               \n",
      "                                                                                                  \n",
      " activation_6 (Activation)      (None, 48, 48, 24)   0           ['conv2d_8[0][0]']               \n",
      "                                                                                                  \n",
      " activation_7 (Activation)      (None, 48, 48, 12)   0           ['conv2d_9[0][0]']               \n",
      "                                                                                                  \n",
      " concatenate_4 (Concatenate)    (None, 48, 48, 84)   0           ['activation_4[0][0]',           \n",
      "                                                                  'activation_5[0][0]',           \n",
      "                                                                  'activation_6[0][0]',           \n",
      "                                                                  'activation_7[0][0]']           \n",
      "                                                                                                  \n",
      " conv2d_10 (Conv2D)             (None, 48, 48, 24)   2040        ['concatenate_4[0][0]']          \n",
      "                                                                                                  \n",
      " dropout_1 (Dropout)            (None, 48, 48, 24)   0           ['conv2d_10[0][0]']              \n",
      "                                                                                                  \n",
      " max_pooling2d_3 (MaxPooling2D)  (None, 24, 24, 24)  0           ['dropout_1[0][0]']              \n",
      "                                                                                                  \n",
      " lambda_3 (Lambda)              (None, 24, 24, 24)   0           ['dropout_1[0][0]']              \n",
      "                                                                                                  \n",
      " concatenate_5 (Concatenate)    (None, 24, 24, 48)   0           ['max_pooling2d_3[0][0]',        \n",
      "                                                                  'lambda_3[0][0]']               \n",
      "                                                                                                  \n",
      " conv2d_11 (Conv2D)             (None, 24, 24, 24)   1176        ['concatenate_5[0][0]']          \n",
      "                                                                                                  \n",
      " max_pooling2d_4 (MaxPooling2D)  (None, 24, 24, 24)  0           ['conv2d_11[0][0]']              \n",
      "                                                                                                  \n",
      " lambda_4 (Lambda)              (None, 24, 24, 24)   0           ['conv2d_11[0][0]']              \n",
      "                                                                                                  \n",
      " concatenate_6 (Concatenate)    (None, 24, 24, 48)   0           ['max_pooling2d_4[0][0]',        \n",
      "                                                                  'lambda_4[0][0]']               \n",
      "                                                                                                  \n",
      " conv2d_12 (Conv2D)             (None, 24, 24, 48)   10416       ['conv2d_11[0][0]']              \n",
      "                                                                                                  \n",
      " conv2d_13 (Conv2D)             (None, 24, 24, 48)   1200        ['conv2d_11[0][0]']              \n",
      "                                                                                                  \n",
      " conv2d_14 (Conv2D)             (None, 24, 24, 48)   28848       ['conv2d_11[0][0]']              \n",
      "                                                                                                  \n",
      " conv2d_15 (Conv2D)             (None, 24, 24, 24)   1176        ['concatenate_6[0][0]']          \n",
      "                                                                                                  \n",
      " activation_8 (Activation)      (None, 24, 24, 48)   0           ['conv2d_12[0][0]']              \n",
      "                                                                                                  \n",
      " activation_9 (Activation)      (None, 24, 24, 48)   0           ['conv2d_13[0][0]']              \n",
      "                                                                                                  \n",
      " activation_10 (Activation)     (None, 24, 24, 48)   0           ['conv2d_14[0][0]']              \n",
      "                                                                                                  \n",
      " activation_11 (Activation)     (None, 24, 24, 24)   0           ['conv2d_15[0][0]']              \n",
      "                                                                                                  \n",
      " concatenate_7 (Concatenate)    (None, 24, 24, 168)  0           ['activation_8[0][0]',           \n",
      "                                                                  'activation_9[0][0]',           \n",
      "                                                                  'activation_10[0][0]',          \n",
      "                                                                  'activation_11[0][0]']          \n",
      "                                                                                                  \n",
      " conv2d_16 (Conv2D)             (None, 24, 24, 48)   8112        ['concatenate_7[0][0]']          \n",
      "                                                                                                  \n",
      " dropout_2 (Dropout)            (None, 24, 24, 48)   0           ['conv2d_16[0][0]']              \n",
      "                                                                                                  \n",
      " max_pooling2d_5 (MaxPooling2D)  (None, 12, 12, 48)  0           ['dropout_2[0][0]']              \n",
      "                                                                                                  \n",
      " lambda_5 (Lambda)              (None, 12, 12, 48)   0           ['dropout_2[0][0]']              \n",
      "                                                                                                  \n",
      " concatenate_8 (Concatenate)    (None, 12, 12, 96)   0           ['max_pooling2d_5[0][0]',        \n",
      "                                                                  'lambda_5[0][0]']               \n",
      "                                                                                                  \n",
      " conv2d_17 (Conv2D)             (None, 12, 12, 48)   4656        ['concatenate_8[0][0]']          \n",
      "                                                                                                  \n",
      " max_pooling2d_6 (MaxPooling2D)  (None, 12, 12, 48)  0           ['conv2d_17[0][0]']              \n",
      "                                                                                                  \n",
      " lambda_6 (Lambda)              (None, 12, 12, 48)   0           ['conv2d_17[0][0]']              \n",
      "                                                                                                  \n",
      " concatenate_9 (Concatenate)    (None, 12, 12, 96)   0           ['max_pooling2d_6[0][0]',        \n",
      "                                                                  'lambda_6[0][0]']               \n",
      "                                                                                                  \n",
      " conv2d_18 (Conv2D)             (None, 12, 12, 96)   41568       ['conv2d_17[0][0]']              \n",
      "                                                                                                  \n",
      " conv2d_19 (Conv2D)             (None, 12, 12, 96)   4704        ['conv2d_17[0][0]']              \n",
      "                                                                                                  \n",
      " conv2d_20 (Conv2D)             (None, 12, 12, 96)   115296      ['conv2d_17[0][0]']              \n",
      "                                                                                                  \n",
      " conv2d_21 (Conv2D)             (None, 12, 12, 48)   4656        ['concatenate_9[0][0]']          \n",
      "                                                                                                  \n",
      " activation_12 (Activation)     (None, 12, 12, 96)   0           ['conv2d_18[0][0]']              \n",
      "                                                                                                  \n",
      " activation_13 (Activation)     (None, 12, 12, 96)   0           ['conv2d_19[0][0]']              \n",
      "                                                                                                  \n",
      " activation_14 (Activation)     (None, 12, 12, 96)   0           ['conv2d_20[0][0]']              \n",
      "                                                                                                  \n",
      " activation_15 (Activation)     (None, 12, 12, 48)   0           ['conv2d_21[0][0]']              \n",
      "                                                                                                  \n",
      " concatenate_10 (Concatenate)   (None, 12, 12, 336)  0           ['activation_12[0][0]',          \n",
      "                                                                  'activation_13[0][0]',          \n",
      "                                                                  'activation_14[0][0]',          \n",
      "                                                                  'activation_15[0][0]']          \n",
      "                                                                                                  \n",
      " conv2d_22 (Conv2D)             (None, 12, 12, 96)   32352       ['concatenate_10[0][0]']         \n",
      "                                                                                                  \n",
      " dropout_3 (Dropout)            (None, 12, 12, 96)   0           ['conv2d_22[0][0]']              \n",
      "                                                                                                  \n",
      " max_pooling2d_7 (MaxPooling2D)  (None, 6, 6, 96)    0           ['dropout_3[0][0]']              \n",
      "                                                                                                  \n",
      " lambda_7 (Lambda)              (None, 6, 6, 96)     0           ['dropout_3[0][0]']              \n",
      "                                                                                                  \n",
      " concatenate_11 (Concatenate)   (None, 6, 6, 192)    0           ['max_pooling2d_7[0][0]',        \n",
      "                                                                  'lambda_7[0][0]']               \n",
      "                                                                                                  \n",
      " conv2d_23 (Conv2D)             (None, 6, 6, 96)     18528       ['concatenate_11[0][0]']         \n",
      "                                                                                                  \n",
      " max_pooling2d_8 (MaxPooling2D)  (None, 6, 6, 96)    0           ['conv2d_23[0][0]']              \n",
      "                                                                                                  \n",
      " lambda_8 (Lambda)              (None, 6, 6, 96)     0           ['conv2d_23[0][0]']              \n",
      "                                                                                                  \n",
      " max_pooling2d_9 (MaxPooling2D)  (None, 6, 6, 1)     0           ['switch_normalization[0][0]']   \n",
      "                                                                                                  \n",
      " lambda_9 (Lambda)              (None, 6, 6, 1)      0           ['switch_normalization[0][0]']   \n",
      "                                                                                                  \n",
      " concatenate_12 (Concatenate)   (None, 6, 6, 192)    0           ['max_pooling2d_8[0][0]',        \n",
      "                                                                  'lambda_8[0][0]']               \n",
      "                                                                                                  \n",
      " concatenate_13 (Concatenate)   (None, 6, 6, 2)      0           ['max_pooling2d_9[0][0]',        \n",
      "                                                                  'lambda_9[0][0]']               \n",
      "                                                                                                  \n",
      " conv2d_25 (Conv2D)             (None, 6, 6, 192)    18624       ['conv2d_23[0][0]']              \n",
      "                                                                                                  \n",
      " conv2d_24 (Conv2D)             (None, 6, 6, 192)    166080      ['conv2d_23[0][0]']              \n",
      "                                                                                                  \n",
      " conv2d_26 (Conv2D)             (None, 6, 6, 192)    460992      ['conv2d_23[0][0]']              \n",
      "                                                                                                  \n",
      " conv2d_27 (Conv2D)             (None, 6, 6, 96)     18528       ['concatenate_12[0][0]']         \n",
      "                                                                                                  \n",
      " conv2d_28 (Conv2D)             (None, 6, 6, 1)      3           ['concatenate_13[0][0]']         \n",
      "                                                                                                  \n",
      " activation_17 (Activation)     (None, 6, 6, 192)    0           ['conv2d_25[0][0]']              \n",
      "                                                                                                  \n",
      " activation_16 (Activation)     (None, 6, 6, 192)    0           ['conv2d_24[0][0]']              \n",
      "                                                                                                  \n",
      " activation_18 (Activation)     (None, 6, 6, 192)    0           ['conv2d_26[0][0]']              \n",
      "                                                                                                  \n",
      " activation_19 (Activation)     (None, 6, 6, 96)     0           ['conv2d_27[0][0]']              \n",
      "                                                                                                  \n",
      " activation_20 (Activation)     (None, 6, 6, 1)      0           ['conv2d_28[0][0]']              \n",
      "                                                                                                  \n",
      " concatenate_14 (Concatenate)   (None, 6, 6, 673)    0           ['activation_17[0][0]',          \n",
      "                                                                  'activation_16[0][0]',          \n",
      "                                                                  'activation_18[0][0]',          \n",
      "                                                                  'activation_19[0][0]',          \n",
      "                                                                  'activation_20[0][0]']          \n",
      "                                                                                                  \n",
      " conv2d_29 (Conv2D)             (None, 6, 6, 192)    129408      ['concatenate_14[0][0]']         \n",
      "                                                                                                  \n",
      " conv2d_transpose (Conv2DTransp  (None, 12, 12, 96)  73824       ['conv2d_29[0][0]']              \n",
      " ose)                                                                                             \n",
      "                                                                                                  \n",
      " concatenate_15 (Concatenate)   (None, 12, 12, 192)  0           ['conv2d_transpose[0][0]',       \n",
      "                                                                  'dropout_3[0][0]']              \n",
      "                                                                                                  \n",
      " max_pooling2d_10 (MaxPooling2D  (None, 12, 12, 192)  0          ['concatenate_15[0][0]']         \n",
      " )                                                                                                \n",
      "                                                                                                  \n",
      " lambda_10 (Lambda)             (None, 12, 12, 192)  0           ['concatenate_15[0][0]']         \n",
      "                                                                                                  \n",
      " concatenate_16 (Concatenate)   (None, 12, 12, 384)  0           ['max_pooling2d_10[0][0]',       \n",
      "                                                                  'lambda_10[0][0]']              \n",
      "                                                                                                  \n",
      " conv2d_30 (Conv2D)             (None, 12, 12, 96)   165984      ['concatenate_15[0][0]']         \n",
      "                                                                                                  \n",
      " conv2d_31 (Conv2D)             (None, 12, 12, 96)   18528       ['concatenate_15[0][0]']         \n",
      "                                                                                                  \n",
      " conv2d_32 (Conv2D)             (None, 12, 12, 96)   460896      ['concatenate_15[0][0]']         \n",
      "                                                                                                  \n",
      " conv2d_33 (Conv2D)             (None, 12, 12, 192)  73920       ['concatenate_16[0][0]']         \n",
      "                                                                                                  \n",
      " activation_21 (Activation)     (None, 12, 12, 96)   0           ['conv2d_30[0][0]']              \n",
      "                                                                                                  \n",
      " activation_22 (Activation)     (None, 12, 12, 96)   0           ['conv2d_31[0][0]']              \n",
      "                                                                                                  \n",
      " activation_23 (Activation)     (None, 12, 12, 96)   0           ['conv2d_32[0][0]']              \n",
      "                                                                                                  \n",
      " activation_24 (Activation)     (None, 12, 12, 192)  0           ['conv2d_33[0][0]']              \n",
      "                                                                                                  \n",
      " concatenate_17 (Concatenate)   (None, 12, 12, 480)  0           ['activation_21[0][0]',          \n",
      "                                                                  'activation_22[0][0]',          \n",
      "                                                                  'activation_23[0][0]',          \n",
      "                                                                  'activation_24[0][0]']          \n",
      "                                                                                                  \n",
      " conv2d_34 (Conv2D)             (None, 12, 12, 96)   46176       ['concatenate_17[0][0]']         \n",
      "                                                                                                  \n",
      " dropout_4 (Dropout)            (None, 12, 12, 96)   0           ['conv2d_34[0][0]']              \n",
      "                                                                                                  \n",
      " conv2d_transpose_1 (Conv2DTran  (None, 24, 24, 48)  18480       ['dropout_4[0][0]']              \n",
      " spose)                                                                                           \n",
      "                                                                                                  \n",
      " concatenate_18 (Concatenate)   (None, 24, 24, 96)   0           ['conv2d_transpose_1[0][0]',     \n",
      "                                                                  'dropout_2[0][0]']              \n",
      "                                                                                                  \n",
      " max_pooling2d_11 (MaxPooling2D  (None, 24, 24, 96)  0           ['concatenate_18[0][0]']         \n",
      " )                                                                                                \n",
      "                                                                                                  \n",
      " lambda_11 (Lambda)             (None, 24, 24, 96)   0           ['concatenate_18[0][0]']         \n",
      "                                                                                                  \n",
      " concatenate_19 (Concatenate)   (None, 24, 24, 192)  0           ['max_pooling2d_11[0][0]',       \n",
      "                                                                  'lambda_11[0][0]']              \n",
      "                                                                                                  \n",
      " conv2d_35 (Conv2D)             (None, 24, 24, 48)   41520       ['concatenate_18[0][0]']         \n",
      "                                                                                                  \n",
      " conv2d_36 (Conv2D)             (None, 24, 24, 48)   4656        ['concatenate_18[0][0]']         \n",
      "                                                                                                  \n",
      " conv2d_37 (Conv2D)             (None, 24, 24, 48)   115248      ['concatenate_18[0][0]']         \n",
      "                                                                                                  \n",
      " conv2d_38 (Conv2D)             (None, 24, 24, 96)   18528       ['concatenate_19[0][0]']         \n",
      "                                                                                                  \n",
      " activation_25 (Activation)     (None, 24, 24, 48)   0           ['conv2d_35[0][0]']              \n",
      "                                                                                                  \n",
      " activation_26 (Activation)     (None, 24, 24, 48)   0           ['conv2d_36[0][0]']              \n",
      "                                                                                                  \n",
      " activation_27 (Activation)     (None, 24, 24, 48)   0           ['conv2d_37[0][0]']              \n",
      "                                                                                                  \n",
      " activation_28 (Activation)     (None, 24, 24, 96)   0           ['conv2d_38[0][0]']              \n",
      "                                                                                                  \n",
      " concatenate_20 (Concatenate)   (None, 24, 24, 240)  0           ['activation_25[0][0]',          \n",
      "                                                                  'activation_26[0][0]',          \n",
      "                                                                  'activation_27[0][0]',          \n",
      "                                                                  'activation_28[0][0]']          \n",
      "                                                                                                  \n",
      " conv2d_39 (Conv2D)             (None, 24, 24, 48)   11568       ['concatenate_20[0][0]']         \n",
      "                                                                                                  \n",
      " dropout_5 (Dropout)            (None, 24, 24, 48)   0           ['conv2d_39[0][0]']              \n",
      "                                                                                                  \n",
      " conv2d_transpose_2 (Conv2DTran  (None, 48, 48, 24)  4632        ['dropout_5[0][0]']              \n",
      " spose)                                                                                           \n",
      "                                                                                                  \n",
      " concatenate_21 (Concatenate)   (None, 48, 48, 48)   0           ['conv2d_transpose_2[0][0]',     \n",
      "                                                                  'dropout_1[0][0]']              \n",
      "                                                                                                  \n",
      " max_pooling2d_12 (MaxPooling2D  (None, 48, 48, 48)  0           ['concatenate_21[0][0]']         \n",
      " )                                                                                                \n",
      "                                                                                                  \n",
      " lambda_12 (Lambda)             (None, 48, 48, 48)   0           ['concatenate_21[0][0]']         \n",
      "                                                                                                  \n",
      " concatenate_22 (Concatenate)   (None, 48, 48, 96)   0           ['max_pooling2d_12[0][0]',       \n",
      "                                                                  'lambda_12[0][0]']              \n",
      "                                                                                                  \n",
      " conv2d_40 (Conv2D)             (None, 48, 48, 24)   10392       ['concatenate_21[0][0]']         \n",
      "                                                                                                  \n",
      " conv2d_41 (Conv2D)             (None, 48, 48, 24)   1176        ['concatenate_21[0][0]']         \n",
      "                                                                                                  \n",
      " conv2d_42 (Conv2D)             (None, 48, 48, 24)   28824       ['concatenate_21[0][0]']         \n",
      "                                                                                                  \n",
      " conv2d_43 (Conv2D)             (None, 48, 48, 48)   4656        ['concatenate_22[0][0]']         \n",
      "                                                                                                  \n",
      " activation_29 (Activation)     (None, 48, 48, 24)   0           ['conv2d_40[0][0]']              \n",
      "                                                                                                  \n",
      " activation_30 (Activation)     (None, 48, 48, 24)   0           ['conv2d_41[0][0]']              \n",
      "                                                                                                  \n",
      " activation_31 (Activation)     (None, 48, 48, 24)   0           ['conv2d_42[0][0]']              \n",
      "                                                                                                  \n",
      " activation_32 (Activation)     (None, 48, 48, 48)   0           ['conv2d_43[0][0]']              \n",
      "                                                                                                  \n",
      " concatenate_23 (Concatenate)   (None, 48, 48, 120)  0           ['activation_29[0][0]',          \n",
      "                                                                  'activation_30[0][0]',          \n",
      "                                                                  'activation_31[0][0]',          \n",
      "                                                                  'activation_32[0][0]']          \n",
      "                                                                                                  \n",
      " conv2d_44 (Conv2D)             (None, 48, 48, 24)   2904        ['concatenate_23[0][0]']         \n",
      "                                                                                                  \n",
      " dropout_6 (Dropout)            (None, 48, 48, 24)   0           ['conv2d_44[0][0]']              \n",
      "                                                                                                  \n",
      " conv2d_transpose_3 (Conv2DTran  (None, 96, 96, 12)  1164        ['dropout_6[0][0]']              \n",
      " spose)                                                                                           \n",
      "                                                                                                  \n",
      " concatenate_24 (Concatenate)   (None, 96, 96, 24)   0           ['conv2d_transpose_3[0][0]',     \n",
      "                                                                  'dropout[0][0]']                \n",
      "                                                                                                  \n",
      " max_pooling2d_13 (MaxPooling2D  (None, 96, 96, 24)  0           ['concatenate_24[0][0]']         \n",
      " )                                                                                                \n",
      "                                                                                                  \n",
      " lambda_13 (Lambda)             (None, 96, 96, 24)   0           ['concatenate_24[0][0]']         \n",
      "                                                                                                  \n",
      " concatenate_25 (Concatenate)   (None, 96, 96, 48)   0           ['max_pooling2d_13[0][0]',       \n",
      "                                                                  'lambda_13[0][0]']              \n",
      "                                                                                                  \n",
      " conv2d_45 (Conv2D)             (None, 96, 96, 12)   2604        ['concatenate_24[0][0]']         \n",
      "                                                                                                  \n",
      " conv2d_46 (Conv2D)             (None, 96, 96, 12)   300         ['concatenate_24[0][0]']         \n",
      "                                                                                                  \n",
      " conv2d_47 (Conv2D)             (None, 96, 96, 12)   7212        ['concatenate_24[0][0]']         \n",
      "                                                                                                  \n",
      " conv2d_48 (Conv2D)             (None, 96, 96, 24)   1176        ['concatenate_25[0][0]']         \n",
      "                                                                                                  \n",
      " activation_33 (Activation)     (None, 96, 96, 12)   0           ['conv2d_45[0][0]']              \n",
      "                                                                                                  \n",
      " activation_34 (Activation)     (None, 96, 96, 12)   0           ['conv2d_46[0][0]']              \n",
      "                                                                                                  \n",
      " activation_35 (Activation)     (None, 96, 96, 12)   0           ['conv2d_47[0][0]']              \n",
      "                                                                                                  \n",
      " activation_36 (Activation)     (None, 96, 96, 24)   0           ['conv2d_48[0][0]']              \n",
      "                                                                                                  \n",
      " concatenate_26 (Concatenate)   (None, 96, 96, 60)   0           ['activation_33[0][0]',          \n",
      "                                                                  'activation_34[0][0]',          \n",
      "                                                                  'activation_35[0][0]',          \n",
      "                                                                  'activation_36[0][0]']          \n",
      "                                                                                                  \n",
      " conv2d_49 (Conv2D)             (None, 96, 96, 12)   732         ['concatenate_26[0][0]']         \n",
      "                                                                                                  \n",
      " dropout_7 (Dropout)            (None, 96, 96, 12)   0           ['conv2d_49[0][0]']              \n",
      "                                                                                                  \n",
      " conv2d_50 (Conv2D)             (None, 96, 96, 3)    39          ['dropout_7[0][0]']              \n",
      "                                                                                                  \n",
      "==================================================================================================\n",
      "Total params: 2,195,179\n",
      "Trainable params: 2,195,177\n",
      "Non-trainable params: 2\n",
      "__________________________________________________________________________________________________\n"
     ]
    }
   ],
   "source": [
    "m = models.iunet2(input_size=(96, 96, 1), dropout_rate=0.5, batch_norm=False, n_classes=3)\n",
    "m.summary()"
   ]
  },
  {
   "cell_type": "code",
   "execution_count": 13,
   "id": "08934f1a-186d-4d9a-abab-858eb29645bc",
   "metadata": {},
   "outputs": [
    {
     "name": "stderr",
     "output_type": "stream",
     "text": [
      "2023-11-17 14:13:46.891072: I tensorflow/core/common_runtime/gpu/gpu_device.cc:1613] Created device /job:localhost/replica:0/task:0/device:GPU:0 with 11551 MB memory:  -> device: 0, name: Tesla K80, pci bus id: 0000:8a:00.0, compute capability: 3.7\n"
     ]
    }
   ],
   "source": [
    "from training_cmdline import *"
   ]
  },
  {
   "cell_type": "code",
   "execution_count": 19,
   "id": "bd4a7a5b-29d7-480d-8e6b-3bec8f40e0a5",
   "metadata": {},
   "outputs": [],
   "source": [
    "from tensorflow.keras.optimizers.experimental import SGD\n",
    "from functools import partial"
   ]
  },
  {
   "cell_type": "code",
   "execution_count": 15,
   "id": "290c8311-9d79-4ab6-9d4e-7bc788b27787",
   "metadata": {},
   "outputs": [],
   "source": [
    "optimizer = SGD(learning_rate = 0.0025, weight_decay = 1e-7, momentum = 0.9, nesterov = True)"
   ]
  },
  {
   "cell_type": "code",
   "execution_count": 20,
   "id": "3d7a5001-65bc-44ff-8610-7510b9a9033f",
   "metadata": {},
   "outputs": [],
   "source": [
    "dicelossw = partial(diceloss, weights = [1, 3, 1])"
   ]
  },
  {
   "cell_type": "code",
   "execution_count": 21,
   "id": "fefc0718-1b2c-4729-b68f-9bb69a7939b7",
   "metadata": {},
   "outputs": [],
   "source": [
    "m.compile(loss=dicelossw, optimizer=optimizer, metrics=['accuracy'], jit_compile=False)"
   ]
  },
  {
   "cell_type": "code",
   "execution_count": 31,
   "id": "2746c4c9-9ebb-4e70-8f10-44d3f6aff459",
   "metadata": {},
   "outputs": [],
   "source": [
    "import os\n",
    "J_ROOT = os.readlink('/proc/%s/cwd' % os.environ['JPY_PARENT_PID'])\n",
    "npzpath = os.path.join(J_ROOT, 'data', 'pecot_dice', \"annotated_datasets/23-09-15_Annotation/23-11-15_32x32_cNp_erdi_nSeg/npz/data.npz\")"
   ]
  },
  {
   "cell_type": "code",
   "execution_count": 32,
   "id": "0b2bfd0f-79b7-41cb-9490-2ce2858b77db",
   "metadata": {},
   "outputs": [],
   "source": [
    "train_dict, (X_test, Y_test) = get_data_sample(npzpath)"
   ]
  },
  {
   "cell_type": "code",
   "execution_count": 33,
   "id": "5de0b69b-e3dc-4f91-8ce7-ecf2769aa865",
   "metadata": {},
   "outputs": [
    {
     "ename": "NameError",
     "evalue": "name 'batch_size' is not defined",
     "output_type": "error",
     "traceback": [
      "\u001b[0;31m---------------------------------------------------------------------------\u001b[0m",
      "\u001b[0;31mNameError\u001b[0m                                 Traceback (most recent call last)",
      "Cell \u001b[0;32mIn[33], line 3\u001b[0m\n\u001b[1;32m      1\u001b[0m train_generator \u001b[38;5;241m=\u001b[39m random_sample_generator(\n\u001b[1;32m      2\u001b[0m         train_dict[\u001b[38;5;124m\"\u001b[39m\u001b[38;5;124mchannels\u001b[39m\u001b[38;5;124m\"\u001b[39m], train_dict[\u001b[38;5;124m\"\u001b[39m\u001b[38;5;124mbatch\u001b[39m\u001b[38;5;124m\"\u001b[39m], train_dict[\u001b[38;5;124m\"\u001b[39m\u001b[38;5;124mpixels_x\u001b[39m\u001b[38;5;124m\"\u001b[39m], \n\u001b[0;32m----> 3\u001b[0m         train_dict[\u001b[38;5;124m\"\u001b[39m\u001b[38;5;124mpixels_y\u001b[39m\u001b[38;5;124m\"\u001b[39m], train_dict[\u001b[38;5;124m\"\u001b[39m\u001b[38;5;124mlabels\u001b[39m\u001b[38;5;124m\"\u001b[39m], \u001b[43mbatch_size\u001b[49m, n_channels, \n\u001b[1;32m      4\u001b[0m         n_classes, train_dict[\u001b[38;5;124m\"\u001b[39m\u001b[38;5;124mwin_x\u001b[39m\u001b[38;5;124m\"\u001b[39m], train_dict[\u001b[38;5;124m\"\u001b[39m\u001b[38;5;124mwin_y\u001b[39m\u001b[38;5;124m\"\u001b[39m], augmentation\n\u001b[1;32m      5\u001b[0m )\n",
      "\u001b[0;31mNameError\u001b[0m: name 'batch_size' is not defined"
     ]
    }
   ],
   "source": [
    "train_generator = random_sample_generator(\n",
    "        train_dict[\"channels\"], train_dict[\"batch\"], train_dict[\"pixels_x\"], \n",
    "        train_dict[\"pixels_y\"], train_dict[\"labels\"], batch_size, n_channels, \n",
    "        n_classes, train_dict[\"win_x\"], train_dict[\"win_y\"], augmentation\n",
    ")"
   ]
  },
  {
   "cell_type": "code",
   "execution_count": null,
   "id": "222853cb-1d23-48cd-89eb-3bb82d674fe0",
   "metadata": {},
   "outputs": [],
   "source": []
  },
  {
   "cell_type": "code",
   "execution_count": null,
   "id": "d1ca3ba6-d88c-42e8-a6c5-c79eb1b9a957",
   "metadata": {},
   "outputs": [],
   "source": [
    "# fit the model on the batches generated by datagen.flow()\n",
    "loss_history = model.fit(\n",
    "    train_generator, steps_per_epoch = int(len(train_dict[\"batch\"])/batch_size),\n",
    "    epochs = n_epoch, validation_data = (X_test,Y_test),\n",
    "    callbacks = [\n",
    "        ModelCheckpoint(\n",
    "            file_name_save, monitor='val_loss', verbose=0, save_best_only=True, \n",
    "            mode='auto', save_weights_only=True\n",
    "        ), LearningRateScheduler(lr_sched), tensorboard_callback,\n",
    "        EarlyStopping(\n",
    "            monitor='val_loss', mode='min', min_delta=0.001,\n",
    "            verbose=1, patience=15\n",
    "        )\n",
    "    ]\n",
    ")"
   ]
  },
  {
   "cell_type": "code",
   "execution_count": 5,
   "id": "61645455-f624-483d-bd99-8bd7b32717a4",
   "metadata": {},
   "outputs": [],
   "source": [
    "input = tf.random.uniform((1, 96, 96, 1))"
   ]
  },
  {
   "cell_type": "code",
   "execution_count": 6,
   "id": "4c957e94-b33b-4bd4-a393-58ba05780901",
   "metadata": {},
   "outputs": [],
   "source": [
    "pool = tf.constant((2, 2))"
   ]
  },
  {
   "cell_type": "code",
   "execution_count": 7,
   "id": "44ba855c-1743-4d23-9456-6ae32bde2d14",
   "metadata": {},
   "outputs": [],
   "source": [
    "stride = tf.constant((1, 1,))"
   ]
  },
  {
   "cell_type": "code",
   "execution_count": 8,
   "id": "f05dbead-2c32-423f-aff5-098e67ce71a8",
   "metadata": {},
   "outputs": [],
   "source": [
    "from tensorflow.keras.layers import MaxPooling2D"
   ]
  },
  {
   "cell_type": "code",
   "execution_count": 9,
   "id": "d0e7c9a3-8bdf-482b-b0ee-edd59567c84d",
   "metadata": {},
   "outputs": [],
   "source": [
    "mpd = MaxPooling2D(pool_size=(16, 16))"
   ]
  },
  {
   "cell_type": "code",
   "execution_count": 10,
   "id": "7f151f6e-0160-4eff-a9d6-f3c3d7bd8f74",
   "metadata": {},
   "outputs": [
    {
     "name": "stderr",
     "output_type": "stream",
     "text": [
      "2023-11-17 14:12:49.652910: I tensorflow/compiler/xla/stream_executor/cuda/cuda_dnn.cc:428] Loaded cuDNN version 8201\n"
     ]
    },
    {
     "data": {
      "text/plain": [
       "TensorShape([1, 6, 6, 1])"
      ]
     },
     "execution_count": 10,
     "metadata": {},
     "output_type": "execute_result"
    }
   ],
   "source": [
    "mpd(input).shape"
   ]
  },
  {
   "cell_type": "code",
   "execution_count": 11,
   "id": "52502304-925e-4b04-9fb0-d8be5182037e",
   "metadata": {},
   "outputs": [
    {
     "data": {
      "text/plain": [
       "TensorShape([1, 6, 6, 1])"
      ]
     },
     "execution_count": 11,
     "metadata": {},
     "output_type": "execute_result"
    }
   ],
   "source": [
    "mpd(input).shape"
   ]
  },
  {
   "cell_type": "code",
   "execution_count": null,
   "id": "cb69c972-63f3-452e-bbd6-497ec2c7235c",
   "metadata": {},
   "outputs": [],
   "source": []
  }
 ],
 "metadata": {
  "kernelspec": {
   "display_name": "Python 3 (ipykernel)",
   "language": "python",
   "name": "python3"
  },
  "language_info": {
   "codemirror_mode": {
    "name": "ipython",
    "version": 3
   },
   "file_extension": ".py",
   "mimetype": "text/x-python",
   "name": "python",
   "nbconvert_exporter": "python",
   "pygments_lexer": "ipython3",
   "version": "3.9.16"
  }
 },
 "nbformat": 4,
 "nbformat_minor": 5
}
