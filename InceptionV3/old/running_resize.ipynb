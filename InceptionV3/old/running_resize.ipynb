{
 "cells": [
  {
   "cell_type": "code",
   "execution_count": 1,
   "id": "a04bfd9f-75d2-4187-8338-51e4973389b0",
   "metadata": {},
   "outputs": [
    {
     "name": "stderr",
     "output_type": "stream",
     "text": [
      "2023-07-03 13:07:04.365972: I tensorflow/core/platform/cpu_feature_guard.cc:193] This TensorFlow binary is optimized with oneAPI Deep Neural Network Library (oneDNN) to use the following CPU instructions in performance-critical operations:  AVX2 FMA\n",
      "To enable them in other operations, rebuild TensorFlow with the appropriate compiler flags.\n",
      "2023-07-03 13:07:14.842945: W tensorflow/compiler/xla/stream_executor/platform/default/dso_loader.cc:64] Could not load dynamic library 'libnvinfer.so.7'; dlerror: libnvinfer.so.7: cannot open shared object file: No such file or directory; LD_LIBRARY_PATH: /home/sathlerar/data/conda/lib:/usr/local/CUDA/11.3.0/bin:/usr/local/CUDA/11.3.0/targets/x86_64-linux/lib:/usr/local/cuDNN/8.2.1/CUDA-11.3/lib64:/usr/bin\n",
      "2023-07-03 13:07:14.843450: W tensorflow/compiler/xla/stream_executor/platform/default/dso_loader.cc:64] Could not load dynamic library 'libnvinfer_plugin.so.7'; dlerror: libnvinfer_plugin.so.7: cannot open shared object file: No such file or directory; LD_LIBRARY_PATH: /home/sathlerar/data/conda/lib:/usr/local/CUDA/11.3.0/bin:/usr/local/CUDA/11.3.0/targets/x86_64-linux/lib:/usr/local/cuDNN/8.2.1/CUDA-11.3/lib64:/usr/bin\n",
      "2023-07-03 13:07:14.843460: W tensorflow/compiler/tf2tensorrt/utils/py_utils.cc:38] TF-TRT Warning: Cannot dlopen some TensorRT libraries. If you would like to use Nvidia GPU with TensorRT, please make sure the missing libraries mentioned above are installed properly.\n",
      "2023-07-03 13:07:27.515033: I tensorflow/core/platform/cpu_feature_guard.cc:193] This TensorFlow binary is optimized with oneAPI Deep Neural Network Library (oneDNN) to use the following CPU instructions in performance-critical operations:  AVX2 FMA\n",
      "To enable them in other operations, rebuild TensorFlow with the appropriate compiler flags.\n",
      "2023-07-03 13:07:29.860468: I tensorflow/core/common_runtime/gpu/gpu_device.cc:1613] Created device /job:localhost/replica:0/task:0/device:GPU:0 with 79116 MB memory:  -> device: 0, name: NVIDIA A100-SXM4-80GB, pci bus id: 0000:c7:00.0, compute capability: 8.0\n"
     ]
    }
   ],
   "source": [
    "from utils import get_images_from_directory, get_images_from_directory_keyword\n",
    "from matplotlib import pyplot as plt\n",
    "from models import inceptionV3\n",
    "import numpy as np\n",
    "import sys, os\n",
    "from helpers import *"
   ]
  },
  {
   "cell_type": "code",
   "execution_count": 2,
   "id": "4deb27d7-222e-4a1e-a17c-fe208ab6e20d",
   "metadata": {},
   "outputs": [
    {
     "name": "stdout",
     "output_type": "stream",
     "text": [
      "\u001b[1mInput directory\n"
     ]
    },
    {
     "data": {
      "application/vnd.jupyter.widget-view+json": {
       "model_id": "738930e06d604bd2837263d927c7b4cf",
       "version_major": 2,
       "version_minor": 0
      },
      "text/plain": [
       "FileChooser(path='/spin1/home/linux/sathlerar', filename='', title='', show_hidden=False, select_desc='Select'…"
      ]
     },
     "metadata": {},
     "output_type": "display_data"
    },
    {
     "name": "stdout",
     "output_type": "stream",
     "text": [
      "\u001b[1mInput model\n"
     ]
    },
    {
     "data": {
      "application/vnd.jupyter.widget-view+json": {
       "model_id": "49d9548d46044caab66f3541ba2520ce",
       "version_major": 2,
       "version_minor": 0
      },
      "text/plain": [
       "FileChooser(path='/spin1/home/linux/sathlerar', filename='', title='', show_hidden=False, select_desc='Select'…"
      ]
     },
     "metadata": {},
     "output_type": "display_data"
    },
    {
     "name": "stdout",
     "output_type": "stream",
     "text": [
      "\u001b[1mOutput directory\n"
     ]
    },
    {
     "data": {
      "application/vnd.jupyter.widget-view+json": {
       "model_id": "6d84b5af111d4cd68591406348f0f9c2",
       "version_major": 2,
       "version_minor": 0
      },
      "text/plain": [
       "FileChooser(path='/spin1/home/linux/sathlerar', filename='', title='', show_hidden=False, select_desc='Select'…"
      ]
     },
     "metadata": {},
     "output_type": "display_data"
    },
    {
     "data": {
      "application/vnd.jupyter.widget-view+json": {
       "model_id": "c26bdf5b237e4dea952099dda10a3be3",
       "version_major": 2,
       "version_minor": 0
      },
      "text/plain": [
       "HBox(children=(Label(value='Only apply on masks:', layout=Layout(height='30px', width='150px')), Text(value='N…"
      ]
     },
     "metadata": {},
     "output_type": "display_data"
    },
    {
     "data": {
      "application/vnd.jupyter.widget-view+json": {
       "model_id": "c47dc56b1ff04d7385a289d0fc9a3f2d",
       "version_major": 2,
       "version_minor": 0
      },
      "text/plain": [
       "HBox(children=(Label(value='Number of channels:', layout=Layout(height='30px', width='150px')), IntText(value=…"
      ]
     },
     "metadata": {},
     "output_type": "display_data"
    },
    {
     "data": {
      "application/vnd.jupyter.widget-view+json": {
       "model_id": "7e1faffebe8b474093c83416215e8549",
       "version_major": 2,
       "version_minor": 0
      },
      "text/plain": [
       "HBox(children=(Label(value='Number of classes:', layout=Layout(height='30px', width='150px')), IntText(value=3…"
      ]
     },
     "metadata": {},
     "output_type": "display_data"
    },
    {
     "data": {
      "application/vnd.jupyter.widget-view+json": {
       "model_id": "77c895bfa65e4a1f95ae0bdb76cde3b9",
       "version_major": 2,
       "version_minor": 0
      },
      "text/plain": [
       "HBox(children=(Label(value='Imaging field in x:', layout=Layout(height='30px', width='150px')), IntText(value=…"
      ]
     },
     "metadata": {},
     "output_type": "display_data"
    },
    {
     "data": {
      "application/vnd.jupyter.widget-view+json": {
       "model_id": "bff30452969c4634bec3743390db0eb2",
       "version_major": 2,
       "version_minor": 0
      },
      "text/plain": [
       "HBox(children=(Label(value='Imaging field in y:', layout=Layout(height='30px', width='150px')), IntText(value=…"
      ]
     },
     "metadata": {},
     "output_type": "display_data"
    },
    {
     "data": {
      "application/vnd.jupyter.widget-view+json": {
       "model_id": "6ef891e413884fbf96fba2efc21b6f2d",
       "version_major": 2,
       "version_minor": 0
      },
      "text/plain": [
       "HBox(children=(Label(value='Batch size:', layout=Layout(height='30px', width='150px')), IntText(value=32)))"
      ]
     },
     "metadata": {},
     "output_type": "display_data"
    },
    {
     "data": {
      "application/vnd.jupyter.widget-view+json": {
       "model_id": "4a4b23249373425596bf5a2eb5445785",
       "version_major": 2,
       "version_minor": 0
      },
      "text/plain": [
       "HBox(children=(Label(value='Normalization:', layout=Layout(height='30px', width='150px')), RadioButtons(option…"
      ]
     },
     "metadata": {},
     "output_type": "display_data"
    }
   ],
   "source": [
    "from interface import running_parameters_interface\n",
    "nb_runnings = 1\n",
    "J_ROOT = os.readlink('/proc/%s/cwd' % os.environ['JPY_PARENT_PID'])\n",
    "parameters = running_parameters_interface(nb_runnings, J_ROOT)"
   ]
  },
  {
   "cell_type": "code",
   "execution_count": 3,
   "id": "df695252-37ab-4c41-a406-b826af0bb528",
   "metadata": {},
   "outputs": [],
   "source": [
    "def running(nb_runnings, parameters):\n",
    "    for i in range(nb_runnings):\n",
    "        if parameters[0][i].selected==None:\n",
    "            sys.exit(\"Running #\"+str(i+1)+\": You need to select an input directory for images to be processed\")\n",
    "        if parameters[1][i].selected==None:\n",
    "            sys.exit(\"Running #\"+str(i+1)+\": You need to select a trained model to process your images\")\n",
    "        if parameters[2][i].selected==None:\n",
    "            sys.exit(\"Running #\"+str(i+1)+\": You need to select an output directory for processed images\")\n",
    "\n",
    "        print(f\"n_features: {parameters[5][i].children[1].value}\\n\" \\\n",
    "              + f\"n_channels: {parameters[4][i].children[1].value}\\n\" \\\n",
    "              + f\"dimx: {parameters[6][i].children[1].value}\\n\" \\\n",
    "              + f\"dimy: {parameters[7][i].children[1].value}\\n\" \\\n",
    "              + f\"weights_path: {parameters[1][i].selected}\")\n",
    "        \n",
    "        model = inceptionV3(n_features=parameters[5][i].children[1].value, \n",
    "                            n_channels=parameters[4][i].children[1].value,\n",
    "                            dimx=parameters[6][i].children[1].value, \n",
    "                            dimy=parameters[7][i].children[1].value, \n",
    "                            weights_path=parameters[1][i].selected)\n",
    "        \n",
    "        print(f\"data_location: {parameters[0][i].selected}\\n\" \\\n",
    "              + f\"output_location: {parameters[2][i].selected}\\n\" \\\n",
    "              + f\"bs: {parameters[8][i].children[1].value}\\n\" \\\n",
    "              + f\"mask_names: {parameters[3][i].children[1].value}\\n\" \\\n",
    "              + f\"normalization: {parameters[9][i].children[1].value}\")\n",
    "        \n",
    "        run_models_on_directory(parameters[0][i].selected, parameters[2][i].selected, \n",
    "                                model, bs=parameters[8][i].children[1].value, maxDim=800, \n",
    "                                mask_names=parameters[3][i].children[1].value, \n",
    "                                normalization=parameters[9][i].children[1].value)\n",
    "        del model"
   ]
  },
  {
   "cell_type": "code",
   "execution_count": 4,
   "id": "c551367c-268c-4d7a-823f-c04acbb49165",
   "metadata": {},
   "outputs": [],
   "source": [
    "def run_models_on_directory(data_location, output_location, model, bs=32, maxDim=800, \n",
    "                            mask_names='None', normalization=\"nuclei segmentation\"):\n",
    "\n",
    "    # determine the number of channels and classes as well as the imaging field dimensions\n",
    "    input_shape = model.layers[0].output_shape\n",
    "    print(input_shape)\n",
    "    n_channels = input_shape[0][1]\n",
    "    imaging_field_x = int((input_shape[0][1]-1)/2)\n",
    "    imaging_field_y = int((input_shape[0][2]-1)/2)\n",
    "    output_shape = model.layers[-1].output_shape\n",
    "    n_classes = output_shape[-1]\n",
    "\n",
    "    # determine the image size\n",
    "    image_size_x, image_size_y, nb_chan = get_image_sizes(data_location)\n",
    "    \n",
    "    # process images\n",
    "    cpt = 0\n",
    "    model_output = []\n",
    "    processed_image_list = run_model_on_directory_pixByPix(data_location, mask_names, output_location, model, \n",
    "                                                         win_x = imaging_field_x, win_y = imaging_field_y, \n",
    "                                                         bs=bs, maxDim=maxDim, normalization = normalization)\n",
    "\n",
    "    model_output += [np.stack(processed_image_list, axis = 0)]\n",
    "\n",
    "    return model_output"
   ]
  },
  {
   "cell_type": "code",
   "execution_count": 5,
   "id": "42cfd6a8-6aa2-43e7-a3f1-3b53e6a3a031",
   "metadata": {},
   "outputs": [],
   "source": [
    "def run_model_on_directory_pixByPix(data_location, mask_names, output_location, model, \n",
    "                                    win_x = 30, win_y = 30, bs=32, maxDim=800, \n",
    "                                    normalization=\"nuclei segmentation\"):\n",
    "    \n",
    "    n_classes = model.layers[-1].output_shape[-1]\n",
    "    counter = 0\n",
    "\n",
    "    if mask_names == 'None':\n",
    "        image_list, image_names = get_images_from_directory(data_location)\n",
    "    else:\n",
    "        image_list, image_names = get_images_from_directory_keyword(data_location, mask_names, True)\n",
    "    processed_image_list = []\n",
    "\n",
    "    if mask_names != \"None\":\n",
    "        mask_list, image_names = get_images_from_directory_keyword(data_location, mask_names)\n",
    "    \n",
    "    for idx, img in enumerate(image_list):\n",
    "        print(image_names[idx])\n",
    "        print(f\"Processing image {idx + 1} of {len(image_list)}\")\n",
    "        if mask_names == \"None\":\n",
    "            processed_image = run_model_pixByPix(img, model, win_x = win_x, win_y = win_y, \n",
    "                                                 bs=bs, maxDim=maxDim, normalization = normalization)\n",
    "        else:\n",
    "            processed_image = run_model_pixByPixOnMasks(img, mask_list[counter], model, win_x = win_x, win_y = win_y, \n",
    "                                                        bs=bs, maxDim=maxDim, normalization = normalization)\n",
    "        processed_image_list += [processed_image]\n",
    "\n",
    "        # Save images\n",
    "        for i in range(n_classes):\n",
    "            cnnout_dir = os.path.join(output_location, image_names[idx])\n",
    "            if not os.path.isdir(cnnout_dir):\n",
    "                os.mkdir(cnnout_dir)\n",
    "            cnnout_name = os.path.join(cnnout_dir, f\"image_c{i}.tif\")\n",
    "            tiff.imwrite(cnnout_name, processed_image[:,:,i])\n",
    "    \n",
    "    return processed_image_list"
   ]
  },
  {
   "cell_type": "code",
   "execution_count": 6,
   "id": "b3c42006-d2ea-48e1-8b2d-3db677b72762",
   "metadata": {},
   "outputs": [],
   "source": [
    "def run_model_pixByPix(img, model, win_x = 30, win_y = 30, std = False, split = True, process = True, bs=32, \n",
    "                       maxDim=800, normalization = \"nuclei segmentation\"):                           \n",
    "    if normalization == \"nuclei segmentation\":\n",
    "        for j in range(img.shape[-1]):\n",
    "            img[0,:,:,j] = process_image(img[0,:,:,j], win_x, win_y)\n",
    "    else:\n",
    "        for j in range(img.shape[-1]):\n",
    "            img[0,:,:,j] = process_image_onlyLocalAverageSubtraction(img[0,:,:,j], win_x, win_y)\n",
    "        \n",
    "    img = np.pad(img, pad_width = [(0,0), (win_x, win_x), (win_y,win_y), (0,0)], mode = 'reflect')\n",
    "    n_classes = model.layers[-1].output_shape[-1]\n",
    "    image_size_x = img.shape[1]\n",
    "    image_size_y = img.shape[2]\n",
    "    model_output = np.zeros((image_size_x-2*win_x,image_size_y-2*win_y,n_classes), dtype = np.float32)\n",
    "    \n",
    "    x_minIterator, y_minIterator = win_x, win_y\n",
    "    x_maxIterator = min(image_size_x, maxDim) - win_x\n",
    "    y_maxIterator = min(image_size_y, maxDim) - win_y\n",
    "    \n",
    "    while x_minIterator<(image_size_x-win_x) and y_minIterator<(image_size_y-win_y):\n",
    "        test_images = []\n",
    "        for x in range(x_minIterator, x_maxIterator):\n",
    "            for y in range(y_minIterator, y_maxIterator):\n",
    "                test_images.append(img[0,x-win_x:x+win_x+1,y-win_y:y+win_y+1,:])\n",
    "               \n",
    "        test_images = np.asarray(test_images)\n",
    "        test_images = test_images.astype('float32')\n",
    "\n",
    "        predictions = model.predict(test_images, verbose=1, batch_size=bs)\n",
    "\n",
    "        cpt = 0\n",
    "        for x in range(x_minIterator, x_maxIterator):\n",
    "            for y in range(y_minIterator, y_maxIterator):\n",
    "                model_output[x-win_x,y-win_y,:] = predictions[cpt,:]\n",
    "                cpt += 1\n",
    "\n",
    "        if x_maxIterator < image_size_x-win_x:\n",
    "            x_minIterator = min(x_maxIterator,image_size_x)\n",
    "            if image_size_x-x_minIterator < maxDim:\n",
    "                x_maxIterator = image_size_x-win_x\n",
    "            else:\n",
    "                x_maxIterator = x_minIterator+maxDim-win_x\n",
    "        else:       \n",
    "            x_minIterator = win_x\n",
    "            x_maxIterator = min(image_size_x,maxDim)-win_x\n",
    "            y_minIterator = min(y_maxIterator,image_size_y)\n",
    "            if image_size_y-y_minIterator < maxDim:\n",
    "                y_maxIterator = image_size_y-win_y\n",
    "            else:\n",
    "                y_maxIterator = y_minIterator+maxDim-win_y\n",
    "\n",
    "    return model_output"
   ]
  },
  {
   "cell_type": "code",
   "execution_count": 7,
   "id": "b33f553f-2dba-47fb-b62a-1fed79e8ce3b",
   "metadata": {},
   "outputs": [
    {
     "name": "stdout",
     "output_type": "stream",
     "text": [
      "n_features: 3\n",
      "n_channels: 1\n",
      "dimx: 65\n",
      "dimy: 65\n",
      "weights_path: /gpfs/gsfs8/users/sathlerar/pecot/InceptionV3/models/nucleiSegmentation1/2023-07-03_InceptionV3_1_ch_3_cl_65_65_lr_0.01_withDA_10_ep.h5\n"
     ]
    },
    {
     "name": "stderr",
     "output_type": "stream",
     "text": [
      "2023-07-03 13:08:28.944138: I tensorflow/core/common_runtime/gpu/gpu_device.cc:1613] Created device /job:localhost/replica:0/task:0/device:GPU:0 with 79116 MB memory:  -> device: 0, name: NVIDIA A100-SXM4-80GB, pci bus id: 0000:c7:00.0, compute capability: 8.0\n"
     ]
    },
    {
     "name": "stdout",
     "output_type": "stream",
     "text": [
      "data_location: /gpfs/gsfs8/users/sathlerar/pecot/for_anal/drg_data/\n",
      "output_location: /gpfs/gsfs8/users/sathlerar/pecot/for_anal/23-07-03_model_out/\n",
      "bs: 32\n",
      "mask_names: None\n",
      "normalization: nuclei segmentation\n",
      "[(None, 65, 65, 1)]\n",
      "230217mtDNAwithTom20-(5)_Young_i3\n",
      "Processing image 1 of 39\n"
     ]
    },
    {
     "name": "stderr",
     "output_type": "stream",
     "text": [
      "2023-07-03 13:08:40.207735: I tensorflow/compiler/xla/stream_executor/cuda/cuda_dnn.cc:428] Loaded cuDNN version 8201\n",
      "2023-07-03 13:08:41.508973: I tensorflow/tsl/platform/default/subprocess.cc:304] Start cannot spawn child process: Permission denied\n",
      "2023-07-03 13:08:41.509523: I tensorflow/tsl/platform/default/subprocess.cc:304] Start cannot spawn child process: Permission denied\n",
      "2023-07-03 13:08:41.509547: W tensorflow/compiler/xla/stream_executor/gpu/asm_compiler.cc:85] Couldn't get ptxas version string: INTERNAL: Couldn't invoke ptxas --version\n",
      "2023-07-03 13:08:41.509881: I tensorflow/tsl/platform/default/subprocess.cc:304] Start cannot spawn child process: Permission denied\n",
      "2023-07-03 13:08:41.509987: W tensorflow/compiler/xla/stream_executor/gpu/redzone_allocator.cc:318] INTERNAL: Failed to launch ptxas\n",
      "Relying on driver to perform ptx compilation. \n",
      "Modify $PATH to customize ptxas location.\n",
      "This message will be only logged once.\n"
     ]
    },
    {
     "name": "stdout",
     "output_type": "stream",
     "text": [
      "  13/7442 [..............................] - ETA: 1:37"
     ]
    },
    {
     "name": "stderr",
     "output_type": "stream",
     "text": [
      "2023-07-03 13:08:42.918382: I tensorflow/compiler/xla/stream_executor/cuda/cuda_blas.cc:630] TensorFloat-32 will be used for the matrix multiplication. This will only be logged once.\n"
     ]
    },
    {
     "name": "stdout",
     "output_type": "stream",
     "text": [
      "7442/7442 [==============================] - 102s 13ms/step\n",
      "221114mtDNAwithTom20-(9)_Young-4_i35\n",
      "Processing image 2 of 39\n",
      "7442/7442 [==============================] - 97s 13ms/step\n",
      "230210mtDNAwithTFAM-(7)_Aged-7_i29\n",
      "Processing image 3 of 39\n",
      "7442/7442 [==============================] - 98s 13ms/step\n",
      "230210mtDNAwithTom20-(5)_Aged-5_i9\n",
      "Processing image 4 of 39\n",
      "7442/7442 [==============================] - 97s 13ms/step\n",
      "221114mtDNAwithTom20-(9)_Aged-5_i23\n",
      "Processing image 5 of 39\n",
      "7442/7442 [==============================] - 97s 13ms/step\n",
      "221207mtDNAwithTom20-(13)_Young-2_i2\n",
      "Processing image 6 of 39\n",
      "7442/7442 [==============================] - 97s 13ms/step\n",
      "230210mtDNAwithTom20-(5)_Aged-5_i11\n",
      "Processing image 7 of 39\n",
      "7442/7442 [==============================] - 97s 13ms/step\n",
      "230210mtDNAwithTFAM-(7)_Aged-7_i34\n",
      "Processing image 8 of 39\n",
      "7442/7442 [==============================] - 97s 13ms/step\n",
      "221114mtDNAwithTom20-(9)_Aged-5_i8\n",
      "Processing image 9 of 39\n",
      "7442/7442 [==============================] - 97s 13ms/step\n",
      "221207mtDNAwithTom20-(13)_Aged-11_i24\n",
      "Processing image 10 of 39\n",
      "7442/7442 [==============================] - 97s 13ms/step\n",
      "230210mtDNAwithTFAM-(7)_Aged-7_i36\n",
      "Processing image 11 of 39\n",
      "7442/7442 [==============================] - 97s 13ms/step\n",
      "221207mtDNAwithTom20-(13)_Aged-11_i14\n",
      "Processing image 12 of 39\n",
      "7442/7442 [==============================] - 97s 13ms/step\n",
      "221207mtDNAwithTom20-(13)_Aged-11_i12\n",
      "Processing image 13 of 39\n",
      "7442/7442 [==============================] - 97s 13ms/step\n",
      "221207mtDNAwithTom20-(13)_Aged-11_i11\n",
      "Processing image 14 of 39\n",
      "7442/7442 [==============================] - 97s 13ms/step\n",
      "230210mtDNAwithTom20-(5)_Aged-5_i14\n",
      "Processing image 15 of 39\n",
      "7442/7442 [==============================] - 97s 13ms/step\n",
      "221207mtDNAwithTom20-(13)_Aged-11_i16\n",
      "Processing image 16 of 39\n",
      "7442/7442 [==============================] - 97s 13ms/step\n",
      "230210mtDNAwithTFAM-(7)_Aged-7_i30\n",
      "Processing image 17 of 39\n",
      "7442/7442 [==============================] - 98s 13ms/step\n",
      "221207mtDNAwithTom20-(13)_Aged-11_i7\n",
      "Processing image 18 of 39\n",
      "7442/7442 [==============================] - 98s 13ms/step\n",
      "230217mtDNAwithTFAM-(1)_Young-1_i12\n",
      "Processing image 19 of 39\n",
      "7442/7442 [==============================] - 97s 13ms/step\n",
      "230210mtDNAwithTFAM-(7)_Aged-7_i39\n",
      "Processing image 20 of 39\n",
      "7442/7442 [==============================] - 97s 13ms/step\n",
      "221114mtDNAwithTom20-(9)_Aged-5_i9\n",
      "Processing image 21 of 39\n",
      "7442/7442 [==============================] - 97s 13ms/step\n",
      "230210mtDNAwithTom20-(5)_Aged-5_i10\n",
      "Processing image 22 of 39\n",
      "7442/7442 [==============================] - 98s 13ms/step\n",
      "230217mtDNAwithTom20-(5)_Young_i2\n",
      "Processing image 23 of 39\n",
      "7442/7442 [==============================] - 98s 13ms/step\n",
      "221207mtDNAwithTom20-(13)_Aged-11_i13\n",
      "Processing image 24 of 39\n",
      "7442/7442 [==============================] - 98s 13ms/step\n",
      "221114mtDNAwithTom20-(9)_Aged-5_i25\n",
      "Processing image 25 of 39\n",
      "7442/7442 [==============================] - 98s 13ms/step\n",
      "221207mtDNAwithTom20-(13)_Aged-11_i18\n",
      "Processing image 26 of 39\n",
      "7442/7442 [==============================] - 98s 13ms/step\n",
      "221207mtDNAwithTom20-(13)_Aged-11_i21\n",
      "Processing image 27 of 39\n",
      "7442/7442 [==============================] - 97s 13ms/step\n",
      "221114mtDNAwithTom20-(9)_Young-4_i18\n",
      "Processing image 28 of 39\n",
      "7442/7442 [==============================] - 97s 13ms/step\n",
      "221114mtDNAwithTom20-(9)_Young-4_i6\n",
      "Processing image 29 of 39\n",
      "7442/7442 [==============================] - 98s 13ms/step\n",
      "221207mtDNAwithTom20-(13)_Aged-11_i26\n",
      "Processing image 30 of 39\n",
      "7442/7442 [==============================] - 98s 13ms/step\n",
      "221207mtDNAwithTom20-(13)_Young-2_i3\n",
      "Processing image 31 of 39\n",
      "7442/7442 [==============================] - 98s 13ms/step\n",
      "230210mtDNAwithTFAM-(7)_Aged-7_i33\n",
      "Processing image 32 of 39\n",
      "7442/7442 [==============================] - 98s 13ms/step\n",
      "230210mtDNAwithTFAM-(7)_Aged-7_i37\n",
      "Processing image 33 of 39\n",
      "7442/7442 [==============================] - 98s 13ms/step\n",
      "230217mtDNAwithTom20-(5)_Young_i4\n",
      "Processing image 34 of 39\n",
      "7442/7442 [==============================] - 98s 13ms/step\n",
      "230217mtDNAwithTom20-(5)_Young_i5\n",
      "Processing image 35 of 39\n",
      "7442/7442 [==============================] - 97s 13ms/step\n",
      "230210mtDNAwithTom20-(5)_Aged-5_i7\n",
      "Processing image 36 of 39\n",
      "7442/7442 [==============================] - 97s 13ms/step\n",
      "221207mtDNAwithTom20-(13)_Aged-11_i25\n",
      "Processing image 37 of 39\n",
      "7442/7442 [==============================] - 98s 13ms/step\n",
      "230217mtDNAwithTom20-(5)_Young_i6\n",
      "Processing image 38 of 39\n",
      "7442/7442 [==============================] - 98s 13ms/step\n",
      "221114mtDNAwithTom20-(9)_Young-4_i32\n",
      "Processing image 39 of 39\n",
      "7442/7442 [==============================] - 98s 13ms/step\n"
     ]
    }
   ],
   "source": [
    "running(nb_runnings, parameters)"
   ]
  },
  {
   "cell_type": "code",
   "execution_count": null,
   "id": "2771c7e3-e84b-45ed-967d-e58e33472b03",
   "metadata": {},
   "outputs": [],
   "source": []
  }
 ],
 "metadata": {
  "kernelspec": {
   "display_name": "Python 3 (ipykernel)",
   "language": "python",
   "name": "python3"
  },
  "language_info": {
   "codemirror_mode": {
    "name": "ipython",
    "version": 3
   },
   "file_extension": ".py",
   "mimetype": "text/x-python",
   "name": "python",
   "nbconvert_exporter": "python",
   "pygments_lexer": "ipython3",
   "version": "3.9.16"
  }
 },
 "nbformat": 4,
 "nbformat_minor": 5
}
