{
 "cells": [
  {
   "cell_type": "code",
   "execution_count": 21,
   "metadata": {},
   "outputs": [],
   "source": [
    "import os\n",
    "import pandas as pd\n",
    "import numpy as np\n",
    "import math\n",
    "import seaborn as sns\n",
    "from graphing_functions import *\n",
    "from scipy import stats\n",
    "from matplotlib import pyplot as plt\n",
    "from matplotlib import ticker\n",
    "from matplotlib.lines import Line2D"
   ]
  },
  {
   "cell_type": "markdown",
   "metadata": {},
   "source": [
    "### File Inputs"
   ]
  },
  {
   "cell_type": "code",
   "execution_count": 22,
   "metadata": {},
   "outputs": [],
   "source": [
    "# Choose between 'mtDNA' and 'TFAM'\n",
    "keyword = \"mtDNA\"\n",
    "\n",
    "# for aggtype, choose between \"mean\" and \"median\".\n",
    "# NOTE: Cell ROIs are always aggregated by median due to skewed distributions \\\n",
    "# This only changes how centrality is calculated for biological replicates\n",
    "aggtype = \"mean\"\n",
    "\n",
    "# for p-eval, choose between \"roi\", \"cell\", and \"rep\"\n",
    "p_eval = \"rep\"\n",
    "plot_rois = False\n",
    "legend = False"
   ]
  },
  {
   "cell_type": "code",
   "execution_count": 23,
   "metadata": {},
   "outputs": [
    {
     "data": {
      "text/html": [
       "<div>\n",
       "<style scoped>\n",
       "    .dataframe tbody tr th:only-of-type {\n",
       "        vertical-align: middle;\n",
       "    }\n",
       "\n",
       "    .dataframe tbody tr th {\n",
       "        vertical-align: top;\n",
       "    }\n",
       "\n",
       "    .dataframe thead th {\n",
       "        text-align: right;\n",
       "    }\n",
       "</style>\n",
       "<table border=\"1\" class=\"dataframe\">\n",
       "  <thead>\n",
       "    <tr style=\"text-align: right;\">\n",
       "      <th></th>\n",
       "      <th>Source</th>\n",
       "      <th>RoiType</th>\n",
       "      <th>Area</th>\n",
       "      <th>Mean</th>\n",
       "      <th>Min</th>\n",
       "      <th>Max</th>\n",
       "      <th>Circ.</th>\n",
       "      <th>IntDen</th>\n",
       "      <th>Median</th>\n",
       "      <th>RawIntDen</th>\n",
       "      <th>AR</th>\n",
       "      <th>Round</th>\n",
       "      <th>Solidity</th>\n",
       "    </tr>\n",
       "  </thead>\n",
       "  <tbody>\n",
       "    <tr>\n",
       "      <th>0</th>\n",
       "      <td>221114_mtDNA_aged_i23</td>\n",
       "      <td>punctate</td>\n",
       "      <td>0.095</td>\n",
       "      <td>39.042</td>\n",
       "      <td>5</td>\n",
       "      <td>96</td>\n",
       "      <td>1.000</td>\n",
       "      <td>3.690</td>\n",
       "      <td>41</td>\n",
       "      <td>937.0</td>\n",
       "      <td>1.091</td>\n",
       "      <td>0.916</td>\n",
       "      <td>0.980</td>\n",
       "    </tr>\n",
       "    <tr>\n",
       "      <th>1</th>\n",
       "      <td>221114_mtDNA_aged_i23</td>\n",
       "      <td>punctate</td>\n",
       "      <td>0.098</td>\n",
       "      <td>36.960</td>\n",
       "      <td>3</td>\n",
       "      <td>94</td>\n",
       "      <td>1.000</td>\n",
       "      <td>3.639</td>\n",
       "      <td>33</td>\n",
       "      <td>924.0</td>\n",
       "      <td>1.312</td>\n",
       "      <td>0.762</td>\n",
       "      <td>0.926</td>\n",
       "    </tr>\n",
       "    <tr>\n",
       "      <th>2</th>\n",
       "      <td>221114_mtDNA_aged_i23</td>\n",
       "      <td>punctate</td>\n",
       "      <td>0.185</td>\n",
       "      <td>87.340</td>\n",
       "      <td>9</td>\n",
       "      <td>255</td>\n",
       "      <td>0.966</td>\n",
       "      <td>16.167</td>\n",
       "      <td>56</td>\n",
       "      <td>4105.0</td>\n",
       "      <td>1.338</td>\n",
       "      <td>0.747</td>\n",
       "      <td>0.931</td>\n",
       "    </tr>\n",
       "    <tr>\n",
       "      <th>3</th>\n",
       "      <td>221114_mtDNA_aged_i23</td>\n",
       "      <td>punctate</td>\n",
       "      <td>0.067</td>\n",
       "      <td>22.294</td>\n",
       "      <td>10</td>\n",
       "      <td>37</td>\n",
       "      <td>1.000</td>\n",
       "      <td>1.493</td>\n",
       "      <td>21</td>\n",
       "      <td>379.0</td>\n",
       "      <td>1.192</td>\n",
       "      <td>0.839</td>\n",
       "      <td>0.919</td>\n",
       "    </tr>\n",
       "    <tr>\n",
       "      <th>4</th>\n",
       "      <td>221114_mtDNA_aged_i23</td>\n",
       "      <td>punctate</td>\n",
       "      <td>0.067</td>\n",
       "      <td>27.059</td>\n",
       "      <td>12</td>\n",
       "      <td>47</td>\n",
       "      <td>1.000</td>\n",
       "      <td>1.812</td>\n",
       "      <td>25</td>\n",
       "      <td>460.0</td>\n",
       "      <td>1.263</td>\n",
       "      <td>0.792</td>\n",
       "      <td>0.919</td>\n",
       "    </tr>\n",
       "  </tbody>\n",
       "</table>\n",
       "</div>"
      ],
      "text/plain": [
       "                  Source   RoiType   Area    Mean  Min  Max  Circ.  IntDen  \\\n",
       "0  221114_mtDNA_aged_i23  punctate  0.095  39.042    5   96  1.000   3.690   \n",
       "1  221114_mtDNA_aged_i23  punctate  0.098  36.960    3   94  1.000   3.639   \n",
       "2  221114_mtDNA_aged_i23  punctate  0.185  87.340    9  255  0.966  16.167   \n",
       "3  221114_mtDNA_aged_i23  punctate  0.067  22.294   10   37  1.000   1.493   \n",
       "4  221114_mtDNA_aged_i23  punctate  0.067  27.059   12   47  1.000   1.812   \n",
       "\n",
       "   Median  RawIntDen     AR  Round  Solidity  \n",
       "0      41      937.0  1.091  0.916     0.980  \n",
       "1      33      924.0  1.312  0.762     0.926  \n",
       "2      56     4105.0  1.338  0.747     0.931  \n",
       "3      21      379.0  1.192  0.839     0.919  \n",
       "4      25      460.0  1.263  0.792     0.919  "
      ]
     },
     "execution_count": 23,
     "metadata": {},
     "output_type": "execute_result"
    }
   ],
   "source": [
    "table = pd.read_csv(f\"/Volumes/Shares/SFU/Xiutang/Xiutang-Alex experiments/Project-mtDNA and aging/Aim 2/Aim 2.2/Aim 2.2-1 Quant DRG Punct/results/updated analysis/240222_analysis/{keyword}/roi_data.csv\")\n",
    "outputpath = \"/Volumes/Shares/SFU/Xiutang/Xiutang-Alex experiments/Project-mtDNA and aging/Aim 2/Aim 2.2/Aim 2.2-1 Quant DRG Punct/results/updated analysis/240222_analysis/split_phase\"\n",
    "# table = pd.read_csv(f\"Z://SFU/Xiutang/Xiutang-Alex experiments/Project-mtDNA and aging/Aim 2/Aim 2.2/Aim 2.2-1 Quant DRG Punct/results/updated analysis/240222_analysis/{keyword}/roi_data.csv\")\n",
    "# outputpath = \"Z://SFU/Xiutang/Xiutang-Alex experiments/Project-mtDNA and aging/Aim 2/Aim 2.2/Aim 2.2-1 Quant DRG Punct/results/updated analysis/240222_analysis/split_phase\"\n",
    "table.head()"
   ]
  },
  {
   "cell_type": "code",
   "execution_count": 24,
   "metadata": {},
   "outputs": [
    {
     "name": "stdout",
     "output_type": "stream",
     "text": [
      "Table shape (24185, 15)\n"
     ]
    },
    {
     "data": {
      "text/html": [
       "<div>\n",
       "<style scoped>\n",
       "    .dataframe tbody tr th:only-of-type {\n",
       "        vertical-align: middle;\n",
       "    }\n",
       "\n",
       "    .dataframe tbody tr th {\n",
       "        vertical-align: top;\n",
       "    }\n",
       "\n",
       "    .dataframe thead th {\n",
       "        text-align: right;\n",
       "    }\n",
       "</style>\n",
       "<table border=\"1\" class=\"dataframe\">\n",
       "  <thead>\n",
       "    <tr style=\"text-align: right;\">\n",
       "      <th></th>\n",
       "      <th>Source</th>\n",
       "      <th>RoiType</th>\n",
       "      <th>Area</th>\n",
       "      <th>Mean</th>\n",
       "      <th>Min</th>\n",
       "      <th>Max</th>\n",
       "      <th>Circ.</th>\n",
       "      <th>IntDen</th>\n",
       "      <th>Median</th>\n",
       "      <th>RawIntDen</th>\n",
       "      <th>AR</th>\n",
       "      <th>Round</th>\n",
       "      <th>Solidity</th>\n",
       "      <th>Group</th>\n",
       "      <th>Date</th>\n",
       "    </tr>\n",
       "  </thead>\n",
       "  <tbody>\n",
       "    <tr>\n",
       "      <th>0</th>\n",
       "      <td>221114_mtDNA_aged_i23</td>\n",
       "      <td>punctate</td>\n",
       "      <td>0.095</td>\n",
       "      <td>39.042</td>\n",
       "      <td>5</td>\n",
       "      <td>96</td>\n",
       "      <td>1.000</td>\n",
       "      <td>3.690</td>\n",
       "      <td>41</td>\n",
       "      <td>937.0</td>\n",
       "      <td>1.091</td>\n",
       "      <td>0.916</td>\n",
       "      <td>0.980</td>\n",
       "      <td>aged</td>\n",
       "      <td>221114</td>\n",
       "    </tr>\n",
       "    <tr>\n",
       "      <th>1</th>\n",
       "      <td>221114_mtDNA_aged_i23</td>\n",
       "      <td>punctate</td>\n",
       "      <td>0.098</td>\n",
       "      <td>36.960</td>\n",
       "      <td>3</td>\n",
       "      <td>94</td>\n",
       "      <td>1.000</td>\n",
       "      <td>3.639</td>\n",
       "      <td>33</td>\n",
       "      <td>924.0</td>\n",
       "      <td>1.312</td>\n",
       "      <td>0.762</td>\n",
       "      <td>0.926</td>\n",
       "      <td>aged</td>\n",
       "      <td>221114</td>\n",
       "    </tr>\n",
       "    <tr>\n",
       "      <th>2</th>\n",
       "      <td>221114_mtDNA_aged_i23</td>\n",
       "      <td>punctate</td>\n",
       "      <td>0.185</td>\n",
       "      <td>87.340</td>\n",
       "      <td>9</td>\n",
       "      <td>255</td>\n",
       "      <td>0.966</td>\n",
       "      <td>16.167</td>\n",
       "      <td>56</td>\n",
       "      <td>4105.0</td>\n",
       "      <td>1.338</td>\n",
       "      <td>0.747</td>\n",
       "      <td>0.931</td>\n",
       "      <td>aged</td>\n",
       "      <td>221114</td>\n",
       "    </tr>\n",
       "    <tr>\n",
       "      <th>3</th>\n",
       "      <td>221114_mtDNA_aged_i23</td>\n",
       "      <td>punctate</td>\n",
       "      <td>0.067</td>\n",
       "      <td>22.294</td>\n",
       "      <td>10</td>\n",
       "      <td>37</td>\n",
       "      <td>1.000</td>\n",
       "      <td>1.493</td>\n",
       "      <td>21</td>\n",
       "      <td>379.0</td>\n",
       "      <td>1.192</td>\n",
       "      <td>0.839</td>\n",
       "      <td>0.919</td>\n",
       "      <td>aged</td>\n",
       "      <td>221114</td>\n",
       "    </tr>\n",
       "    <tr>\n",
       "      <th>4</th>\n",
       "      <td>221114_mtDNA_aged_i23</td>\n",
       "      <td>punctate</td>\n",
       "      <td>0.067</td>\n",
       "      <td>27.059</td>\n",
       "      <td>12</td>\n",
       "      <td>47</td>\n",
       "      <td>1.000</td>\n",
       "      <td>1.812</td>\n",
       "      <td>25</td>\n",
       "      <td>460.0</td>\n",
       "      <td>1.263</td>\n",
       "      <td>0.792</td>\n",
       "      <td>0.919</td>\n",
       "      <td>aged</td>\n",
       "      <td>221114</td>\n",
       "    </tr>\n",
       "  </tbody>\n",
       "</table>\n",
       "</div>"
      ],
      "text/plain": [
       "                  Source   RoiType   Area    Mean  Min  Max  Circ.  IntDen  \\\n",
       "0  221114_mtDNA_aged_i23  punctate  0.095  39.042    5   96  1.000   3.690   \n",
       "1  221114_mtDNA_aged_i23  punctate  0.098  36.960    3   94  1.000   3.639   \n",
       "2  221114_mtDNA_aged_i23  punctate  0.185  87.340    9  255  0.966  16.167   \n",
       "3  221114_mtDNA_aged_i23  punctate  0.067  22.294   10   37  1.000   1.493   \n",
       "4  221114_mtDNA_aged_i23  punctate  0.067  27.059   12   47  1.000   1.812   \n",
       "\n",
       "   Median  RawIntDen     AR  Round  Solidity Group    Date  \n",
       "0      41      937.0  1.091  0.916     0.980  aged  221114  \n",
       "1      33      924.0  1.312  0.762     0.926  aged  221114  \n",
       "2      56     4105.0  1.338  0.747     0.931  aged  221114  \n",
       "3      21      379.0  1.192  0.839     0.919  aged  221114  \n",
       "4      25      460.0  1.263  0.792     0.919  aged  221114  "
      ]
     },
     "execution_count": 24,
     "metadata": {},
     "output_type": "execute_result"
    }
   ],
   "source": [
    "table_edits = table\n",
    "table_edits['Group'] = table['Source'].str.split(\"_\").str[2]\n",
    "table_edits['Date'] = table['Source'].str.split('_').str[0]\n",
    "print(f\"Table shape {table_edits.shape}\")\n",
    "table_edits.head()"
   ]
  },
  {
   "attachments": {},
   "cell_type": "markdown",
   "metadata": {},
   "source": [
    "### Removal of Outliers"
   ]
  },
  {
   "attachments": {},
   "cell_type": "markdown",
   "metadata": {},
   "source": [
    "1. Removal of cells with visually defective AI predictions from the dataset"
   ]
  },
  {
   "cell_type": "code",
   "execution_count": 25,
   "metadata": {},
   "outputs": [
    {
     "name": "stdout",
     "output_type": "stream",
     "text": [
      "24185 rois before cell removal\n",
      "21873 rois after removal\n",
      "2312 rois removed\n"
     ]
    }
   ],
   "source": [
    "poor_predictions = {\n",
    "    # 64 mtDNA images - 5 = 59 images left\n",
    "    'mtDNA': ['221207_mtDNA_young_i3', '230727_mtDNA_young_i3', \n",
    "              '230731_mtDNA_aged_i14l', '230731_mtDNA_aged_14u', \n",
    "              '230731_mtDNA_aged_i18'],\n",
    "    # 30 TFAM images - 2 images = 28 images left\n",
    "    'TFAM': ['230210_TFAM_aged_i26', '230210_TFAM_aged_i25']\n",
    "}\n",
    "\n",
    "before_count = table_edits.shape[0]\n",
    "print(f\"{before_count} rois before cell removal\")\n",
    "for cell in poor_predictions[keyword]:\n",
    "    table_edits = table_edits[table_edits['Source'] != cell]\n",
    "print(f\"{table_edits.shape[0]} rois after removal\")\n",
    "print(f\"{before_count - table_edits.shape[0]} rois removed\")"
   ]
  },
  {
   "attachments": {},
   "cell_type": "markdown",
   "metadata": {},
   "source": [
    "2. Removal of outliers by:\n",
    "    1. separating dataset into puncate and diffuse subsets\n",
    "    2. removing outliers from each subset using 1.5 times IQR\n",
    "    3. re-combining punctate and diffuse datasets for further manipulation / graphing"
   ]
  },
  {
   "cell_type": "code",
   "execution_count": 26,
   "metadata": {},
   "outputs": [],
   "source": [
    "#2.1 - separating dataset into punctate and diffuse subsets\n",
    "punctate_table = table_edits[table_edits['RoiType'] == 'punctate']\n",
    "diffuse_table = table_edits[table_edits['RoiType'] == 'diffuse']\n",
    "assert punctate_table.shape[0] + diffuse_table.shape[0] == table_edits.shape[0]"
   ]
  },
  {
   "cell_type": "markdown",
   "metadata": {},
   "source": [
    "Checking distribution for punctate roi ara before outlier removal"
   ]
  },
  {
   "cell_type": "code",
   "execution_count": 27,
   "metadata": {},
   "outputs": [
    {
     "data": {
      "text/plain": [
       "<Axes: xlabel='Area', ylabel='Density'>"
      ]
     },
     "execution_count": 27,
     "metadata": {},
     "output_type": "execute_result"
    },
    {
     "data": {
      "image/png": "[encoded data removed]",
      "text/plain": [
       "<Figure size 640x480 with 1 Axes>"
      ]
     },
     "metadata": {},
     "output_type": "display_data"
    }
   ],
   "source": [
    "sns.kdeplot(data=punctate_table['Area'])"
   ]
  },
  {
   "cell_type": "code",
   "execution_count": 28,
   "metadata": {},
   "outputs": [
    {
     "data": {
      "text/html": [
       "<div>\n",
       "<style scoped>\n",
       "    .dataframe tbody tr th:only-of-type {\n",
       "        vertical-align: middle;\n",
       "    }\n",
       "\n",
       "    .dataframe tbody tr th {\n",
       "        vertical-align: top;\n",
       "    }\n",
       "\n",
       "    .dataframe thead th {\n",
       "        text-align: right;\n",
       "    }\n",
       "</style>\n",
       "<table border=\"1\" class=\"dataframe\">\n",
       "  <thead>\n",
       "    <tr style=\"text-align: right;\">\n",
       "      <th></th>\n",
       "      <th>p-outlier#</th>\n",
       "      <th>p-outlier%</th>\n",
       "      <th>d-outlier#</th>\n",
       "      <th>d-outlier%</th>\n",
       "    </tr>\n",
       "  </thead>\n",
       "  <tbody>\n",
       "    <tr>\n",
       "      <th>Source</th>\n",
       "      <td>0</td>\n",
       "      <td>0.00</td>\n",
       "      <td>0</td>\n",
       "      <td>0.00</td>\n",
       "    </tr>\n",
       "    <tr>\n",
       "      <th>RoiType</th>\n",
       "      <td>0</td>\n",
       "      <td>0.00</td>\n",
       "      <td>0</td>\n",
       "      <td>0.00</td>\n",
       "    </tr>\n",
       "    <tr>\n",
       "      <th>Area</th>\n",
       "      <td>1832</td>\n",
       "      <td>10.55</td>\n",
       "      <td>686</td>\n",
       "      <td>15.21</td>\n",
       "    </tr>\n",
       "    <tr>\n",
       "      <th>Mean</th>\n",
       "      <td>1401</td>\n",
       "      <td>8.07</td>\n",
       "      <td>448</td>\n",
       "      <td>9.93</td>\n",
       "    </tr>\n",
       "    <tr>\n",
       "      <th>Min</th>\n",
       "      <td>569</td>\n",
       "      <td>3.28</td>\n",
       "      <td>180</td>\n",
       "      <td>3.99</td>\n",
       "    </tr>\n",
       "    <tr>\n",
       "      <th>Max</th>\n",
       "      <td>1496</td>\n",
       "      <td>8.62</td>\n",
       "      <td>339</td>\n",
       "      <td>7.51</td>\n",
       "    </tr>\n",
       "    <tr>\n",
       "      <th>Circ.</th>\n",
       "      <td>2415</td>\n",
       "      <td>13.91</td>\n",
       "      <td>1</td>\n",
       "      <td>0.02</td>\n",
       "    </tr>\n",
       "    <tr>\n",
       "      <th>IntDen</th>\n",
       "      <td>1917</td>\n",
       "      <td>11.04</td>\n",
       "      <td>688</td>\n",
       "      <td>15.25</td>\n",
       "    </tr>\n",
       "    <tr>\n",
       "      <th>Median</th>\n",
       "      <td>1508</td>\n",
       "      <td>8.69</td>\n",
       "      <td>573</td>\n",
       "      <td>12.70</td>\n",
       "    </tr>\n",
       "    <tr>\n",
       "      <th>RawIntDen</th>\n",
       "      <td>1923</td>\n",
       "      <td>11.08</td>\n",
       "      <td>690</td>\n",
       "      <td>15.30</td>\n",
       "    </tr>\n",
       "    <tr>\n",
       "      <th>AR</th>\n",
       "      <td>2415</td>\n",
       "      <td>13.91</td>\n",
       "      <td>403</td>\n",
       "      <td>8.93</td>\n",
       "    </tr>\n",
       "    <tr>\n",
       "      <th>Round</th>\n",
       "      <td>1995</td>\n",
       "      <td>11.49</td>\n",
       "      <td>25</td>\n",
       "      <td>0.55</td>\n",
       "    </tr>\n",
       "    <tr>\n",
       "      <th>Solidity</th>\n",
       "      <td>1968</td>\n",
       "      <td>11.34</td>\n",
       "      <td>194</td>\n",
       "      <td>4.30</td>\n",
       "    </tr>\n",
       "    <tr>\n",
       "      <th>Group</th>\n",
       "      <td>0</td>\n",
       "      <td>0.00</td>\n",
       "      <td>0</td>\n",
       "      <td>0.00</td>\n",
       "    </tr>\n",
       "    <tr>\n",
       "      <th>Date</th>\n",
       "      <td>0</td>\n",
       "      <td>0.00</td>\n",
       "      <td>0</td>\n",
       "      <td>0.00</td>\n",
       "    </tr>\n",
       "  </tbody>\n",
       "</table>\n",
       "</div>"
      ],
      "text/plain": [
       "           p-outlier#  p-outlier%  d-outlier#  d-outlier%\n",
       "Source              0        0.00           0        0.00\n",
       "RoiType             0        0.00           0        0.00\n",
       "Area             1832       10.55         686       15.21\n",
       "Mean             1401        8.07         448        9.93\n",
       "Min               569        3.28         180        3.99\n",
       "Max              1496        8.62         339        7.51\n",
       "Circ.            2415       13.91           1        0.02\n",
       "IntDen           1917       11.04         688       15.25\n",
       "Median           1508        8.69         573       12.70\n",
       "RawIntDen        1923       11.08         690       15.30\n",
       "AR               2415       13.91         403        8.93\n",
       "Round            1995       11.49          25        0.55\n",
       "Solidity         1968       11.34         194        4.30\n",
       "Group               0        0.00           0        0.00\n",
       "Date                0        0.00           0        0.00"
      ]
     },
     "execution_count": 28,
     "metadata": {},
     "output_type": "execute_result"
    }
   ],
   "source": [
    "#2.2 - removal of rois for each dataset using z-score\n",
    "punctate_no_outliers = iqr_removal(punctate_table)\n",
    "po = punctate_no_outliers.isna().sum()\n",
    "\n",
    "diffuse_no_outliers = iqr_removal(diffuse_table)\n",
    "do = diffuse_no_outliers.isna().sum()\n",
    "\n",
    "summary = pd.concat([po, round(po / punctate_table.shape[0] * 100, 2), \n",
    "                     do, round(do / diffuse_table.shape[0] * 100, 2)], axis = 1)\n",
    "summary.columns = ['p-outlier#', 'p-outlier%', 'd-outlier#', 'd-outlier%']\n",
    "summary\n"
   ]
  },
  {
   "cell_type": "markdown",
   "metadata": {},
   "source": [
    "Checking distribution for punctate ROI after outlier removal"
   ]
  },
  {
   "cell_type": "code",
   "execution_count": 29,
   "metadata": {},
   "outputs": [
    {
     "data": {
      "text/plain": [
       "<Axes: xlabel='Area', ylabel='Density'>"
      ]
     },
     "execution_count": 29,
     "metadata": {},
     "output_type": "execute_result"
    },
    {
     "data": {
      "image/png": "[encoded data removed]",
      "text/plain": [
       "<Figure size 640x480 with 1 Axes>"
      ]
     },
     "metadata": {},
     "output_type": "display_data"
    }
   ],
   "source": [
    "sns.kdeplot(data=punctate_no_outliers[\"Area\"])"
   ]
  },
  {
   "cell_type": "code",
   "execution_count": 30,
   "metadata": {},
   "outputs": [],
   "source": [
    "#3.3 re-combine dataset for further analysis\n",
    "no_outlier = pd.concat([punctate_no_outliers, diffuse_no_outliers], axis = 0)\n",
    "# no_outlier = no_outlier[[\"Source\", \"Date\", \"Group\", \"RoiType\", \"Area\", \"Mean\", \"Min\", \"Max\",\n",
    "#                             \"Circ.\", \"IntDen\", \"Median\", \"RawIntDen\", \"AR\", \"Round\", \"Solidity\"]].dropna()\n",
    "no_outlier = no_outlier[[\"Source\", \"Date\", \"Group\", \"RoiType\", \"Area\", \"Mean\", \"Circ.\"]].dropna()"
   ]
  },
  {
   "cell_type": "code",
   "execution_count": 31,
   "metadata": {},
   "outputs": [
    {
     "name": "stdout",
     "output_type": "stream",
     "text": [
      "(16656, 7)\n"
     ]
    }
   ],
   "source": [
    "print(no_outlier.shape)\n",
    "no_outlier.to_csv(os.path.join(outputpath, f\"{keyword}_ROIs_splitPhase_noOutlier.csv\"))"
   ]
  },
  {
   "cell_type": "markdown",
   "metadata": {},
   "source": [
    "### Grouping and Aggregating Data"
   ]
  },
  {
   "cell_type": "markdown",
   "metadata": {},
   "source": [
    "First by at the level of an individual cell"
   ]
  },
  {
   "cell_type": "code",
   "execution_count": 32,
   "metadata": {},
   "outputs": [
    {
     "data": {
      "text/html": [
       "<div>\n",
       "<style scoped>\n",
       "    .dataframe tbody tr th:only-of-type {\n",
       "        vertical-align: middle;\n",
       "    }\n",
       "\n",
       "    .dataframe tbody tr th {\n",
       "        vertical-align: top;\n",
       "    }\n",
       "\n",
       "    .dataframe thead th {\n",
       "        text-align: right;\n",
       "    }\n",
       "</style>\n",
       "<table border=\"1\" class=\"dataframe\">\n",
       "  <thead>\n",
       "    <tr style=\"text-align: right;\">\n",
       "      <th></th>\n",
       "      <th>Source</th>\n",
       "      <th>RoiType</th>\n",
       "      <th>Group</th>\n",
       "      <th>Date</th>\n",
       "      <th>Area</th>\n",
       "      <th>Mean</th>\n",
       "      <th>Circ.</th>\n",
       "    </tr>\n",
       "  </thead>\n",
       "  <tbody>\n",
       "    <tr>\n",
       "      <th>0</th>\n",
       "      <td>221114_mtDNA_aged_i23</td>\n",
       "      <td>diffuse</td>\n",
       "      <td>aged</td>\n",
       "      <td>221114</td>\n",
       "      <td>0.0530</td>\n",
       "      <td>27.891</td>\n",
       "      <td>0.8960</td>\n",
       "    </tr>\n",
       "    <tr>\n",
       "      <th>1</th>\n",
       "      <td>221114_mtDNA_aged_i23</td>\n",
       "      <td>punctate</td>\n",
       "      <td>aged</td>\n",
       "      <td>221114</td>\n",
       "      <td>0.0750</td>\n",
       "      <td>34.750</td>\n",
       "      <td>1.0000</td>\n",
       "    </tr>\n",
       "    <tr>\n",
       "      <th>2</th>\n",
       "      <td>221114_mtDNA_aged_i25</td>\n",
       "      <td>diffuse</td>\n",
       "      <td>aged</td>\n",
       "      <td>221114</td>\n",
       "      <td>0.0550</td>\n",
       "      <td>33.343</td>\n",
       "      <td>0.7370</td>\n",
       "    </tr>\n",
       "    <tr>\n",
       "      <th>3</th>\n",
       "      <td>221114_mtDNA_aged_i25</td>\n",
       "      <td>punctate</td>\n",
       "      <td>aged</td>\n",
       "      <td>221114</td>\n",
       "      <td>0.0845</td>\n",
       "      <td>33.971</td>\n",
       "      <td>0.9295</td>\n",
       "    </tr>\n",
       "    <tr>\n",
       "      <th>4</th>\n",
       "      <td>221114_mtDNA_aged_i8</td>\n",
       "      <td>diffuse</td>\n",
       "      <td>aged</td>\n",
       "      <td>221114</td>\n",
       "      <td>0.0430</td>\n",
       "      <td>39.900</td>\n",
       "      <td>0.8110</td>\n",
       "    </tr>\n",
       "  </tbody>\n",
       "</table>\n",
       "</div>"
      ],
      "text/plain": [
       "                  Source   RoiType Group    Date    Area    Mean   Circ.\n",
       "0  221114_mtDNA_aged_i23   diffuse  aged  221114  0.0530  27.891  0.8960\n",
       "1  221114_mtDNA_aged_i23  punctate  aged  221114  0.0750  34.750  1.0000\n",
       "2  221114_mtDNA_aged_i25   diffuse  aged  221114  0.0550  33.343  0.7370\n",
       "3  221114_mtDNA_aged_i25  punctate  aged  221114  0.0845  33.971  0.9295\n",
       "4   221114_mtDNA_aged_i8   diffuse  aged  221114  0.0430  39.900  0.8110"
      ]
     },
     "execution_count": 32,
     "metadata": {},
     "output_type": "execute_result"
    }
   ],
   "source": [
    "cell_dict = {}\n",
    "for header in no_outlier.columns:\n",
    "    if header == \"Source\" or header == \"RoiType\" or header == \"Group\":\n",
    "        continue\n",
    "    elif header == \"Date\":\n",
    "        cell_dict[header] = \"first\"\n",
    "    else:\n",
    "        cell_dict[header] = \"median\"\n",
    "\n",
    "cell_means = no_outlier.groupby([\"Source\",\"RoiType\",\"Group\"]).agg(cell_dict)\n",
    "cell_means = cell_means.reset_index()\n",
    "cell_means.head()"
   ]
  },
  {
   "cell_type": "code",
   "execution_count": 33,
   "metadata": {},
   "outputs": [
    {
     "name": "stdout",
     "output_type": "stream",
     "text": [
      "(114, 7)\n"
     ]
    }
   ],
   "source": [
    "print(cell_means.shape)\n",
    "cell_means.to_csv(os.path.join(outputpath, f\"{keyword}_splitPhase_cellMeans.csv\"))"
   ]
  },
  {
   "cell_type": "markdown",
   "metadata": {},
   "source": [
    "Then at the level of a biological replicate"
   ]
  },
  {
   "cell_type": "code",
   "execution_count": 34,
   "metadata": {},
   "outputs": [
    {
     "data": {
      "text/html": [
       "<div>\n",
       "<style scoped>\n",
       "    .dataframe tbody tr th:only-of-type {\n",
       "        vertical-align: middle;\n",
       "    }\n",
       "\n",
       "    .dataframe tbody tr th {\n",
       "        vertical-align: top;\n",
       "    }\n",
       "\n",
       "    .dataframe thead th {\n",
       "        text-align: right;\n",
       "    }\n",
       "</style>\n",
       "<table border=\"1\" class=\"dataframe\">\n",
       "  <thead>\n",
       "    <tr style=\"text-align: right;\">\n",
       "      <th></th>\n",
       "      <th>Date</th>\n",
       "      <th>RoiType</th>\n",
       "      <th>Group</th>\n",
       "      <th>Source</th>\n",
       "      <th>Area</th>\n",
       "      <th>Mean</th>\n",
       "      <th>Circ.</th>\n",
       "    </tr>\n",
       "  </thead>\n",
       "  <tbody>\n",
       "    <tr>\n",
       "      <th>0</th>\n",
       "      <td>221114</td>\n",
       "      <td>diffuse</td>\n",
       "      <td>aged</td>\n",
       "      <td>221114_mtDNA_aged_i23</td>\n",
       "      <td>0.050333</td>\n",
       "      <td>33.711333</td>\n",
       "      <td>0.814667</td>\n",
       "    </tr>\n",
       "    <tr>\n",
       "      <th>1</th>\n",
       "      <td>221114</td>\n",
       "      <td>diffuse</td>\n",
       "      <td>young</td>\n",
       "      <td>221114_mtDNA_young_i18</td>\n",
       "      <td>0.050250</td>\n",
       "      <td>31.708375</td>\n",
       "      <td>0.819125</td>\n",
       "    </tr>\n",
       "    <tr>\n",
       "      <th>2</th>\n",
       "      <td>221114</td>\n",
       "      <td>punctate</td>\n",
       "      <td>aged</td>\n",
       "      <td>221114_mtDNA_aged_i23</td>\n",
       "      <td>0.079167</td>\n",
       "      <td>35.573667</td>\n",
       "      <td>0.964833</td>\n",
       "    </tr>\n",
       "    <tr>\n",
       "      <th>3</th>\n",
       "      <td>221114</td>\n",
       "      <td>punctate</td>\n",
       "      <td>young</td>\n",
       "      <td>221114_mtDNA_young_i18</td>\n",
       "      <td>0.087000</td>\n",
       "      <td>33.917875</td>\n",
       "      <td>0.986500</td>\n",
       "    </tr>\n",
       "    <tr>\n",
       "      <th>4</th>\n",
       "      <td>221207</td>\n",
       "      <td>diffuse</td>\n",
       "      <td>aged</td>\n",
       "      <td>221207_mtDNA_aged_i11</td>\n",
       "      <td>0.048091</td>\n",
       "      <td>32.760727</td>\n",
       "      <td>0.705500</td>\n",
       "    </tr>\n",
       "  </tbody>\n",
       "</table>\n",
       "</div>"
      ],
      "text/plain": [
       "     Date   RoiType  Group                  Source      Area       Mean  \\\n",
       "0  221114   diffuse   aged   221114_mtDNA_aged_i23  0.050333  33.711333   \n",
       "1  221114   diffuse  young  221114_mtDNA_young_i18  0.050250  31.708375   \n",
       "2  221114  punctate   aged   221114_mtDNA_aged_i23  0.079167  35.573667   \n",
       "3  221114  punctate  young  221114_mtDNA_young_i18  0.087000  33.917875   \n",
       "4  221207   diffuse   aged   221207_mtDNA_aged_i11  0.048091  32.760727   \n",
       "\n",
       "      Circ.  \n",
       "0  0.814667  \n",
       "1  0.819125  \n",
       "2  0.964833  \n",
       "3  0.986500  \n",
       "4  0.705500  "
      ]
     },
     "execution_count": 34,
     "metadata": {},
     "output_type": "execute_result"
    }
   ],
   "source": [
    "rep_dict = {}\n",
    "# for header in no_outlier.columns:\n",
    "for header in cell_means.columns:\n",
    "    if header == \"Date\" or header == \"RoiType\" or header == \"Group\":\n",
    "        continue\n",
    "    elif header == \"Source\":\n",
    "        rep_dict[header] = \"first\"\n",
    "    else:\n",
    "        rep_dict[header] = aggtype\n",
    "\n",
    "rep_means = cell_means.groupby([\"Date\", \"RoiType\",\"Group\"]).agg(rep_dict)\n",
    "rep_means = rep_means.reset_index()\n",
    "rep_means.head()"
   ]
  },
  {
   "cell_type": "code",
   "execution_count": 35,
   "metadata": {},
   "outputs": [
    {
     "name": "stdout",
     "output_type": "stream",
     "text": [
      "(18, 7)\n"
     ]
    }
   ],
   "source": [
    "print(rep_means.shape)\n",
    "rep_means.to_csv(os.path.join(outputpath, f\"{keyword}_splitPhase_repMeans.csv\"))"
   ]
  },
  {
   "cell_type": "markdown",
   "metadata": {},
   "source": [
    "### Splitting Aggregated Groups into punctate and diffuse dataframes"
   ]
  },
  {
   "cell_type": "code",
   "execution_count": 36,
   "metadata": {},
   "outputs": [],
   "source": [
    "punctate_table = no_outlier[no_outlier[\"RoiType\"] == 'punctate']\n",
    "punctate_means = cell_means[cell_means[\"RoiType\"] == 'punctate']\n",
    "punctate_reps = rep_means[rep_means[\"RoiType\"] == 'punctate']\n",
    "\n",
    "diffuse_table = no_outlier[no_outlier[\"RoiType\"] == 'diffuse']\n",
    "diffuse_means = cell_means[cell_means[\"RoiType\"] == 'diffuse']\n",
    "diffuse_reps = rep_means[rep_means[\"RoiType\"] == 'diffuse']"
   ]
  },
  {
   "cell_type": "markdown",
   "metadata": {},
   "source": [
    "### Computing p-values to be graphed"
   ]
  },
  {
   "cell_type": "code",
   "execution_count": 37,
   "metadata": {},
   "outputs": [
    {
     "name": "stdout",
     "output_type": "stream",
     "text": [
      "5\n"
     ]
    }
   ],
   "source": [
    "rep_pvalues = {}\n",
    "if p_eval == 'roi':\n",
    "   pdict = punctate_table\n",
    "   ddict = diffuse_table\n",
    "elif p_eval == 'cell':\n",
    "   pdict = punctate_means\n",
    "   ddict = diffuse_means\n",
    "elif p_eval == 'rep':\n",
    "   pdict = punctate_reps\n",
    "   ddict = diffuse_reps\n",
    "else:\n",
    "   raise ValueError(f\"p_eval value '{p_eval}' not recognized. Please choose between 'roi', 'cell', and 'rep'\")\n",
    "\n",
    "for key, value in rep_dict.items():\n",
    "    if value == \"first\":\n",
    "      continue \n",
    "    pYoung = pdict[pdict[\"Group\"] == 'young'][key]\n",
    "    pAged = pdict[pdict[\"Group\"] == 'aged'][key]\n",
    "    if key == \"Area\":\n",
    "      print(pYoung.isna().count())\n",
    "\n",
    "    pP = stats.mannwhitneyu(pYoung, pAged)[1]\n",
    "\n",
    "    dYoung = ddict[ddict[\"Group\"] == 'young'][key]\n",
    "    dAged = ddict[ddict[\"Group\"] == 'aged'][key]\n",
    "    dP = stats.mannwhitneyu(dYoung, dAged)[1]\n",
    "\n",
    "    pP, dP = round(pP, 10), round(dP, 10)\n",
    "    rep_pvalues[key] = (pP, dP)"
   ]
  },
  {
   "cell_type": "code",
   "execution_count": 38,
   "metadata": {},
   "outputs": [
    {
     "data": {
      "text/plain": [
       "{'Area': (0.4126984127, 0.0317460317),\n",
       " 'Mean': (0.7301587302, 0.2857142857),\n",
       " 'Circ.': (0.1111111111, 0.7301587302)}"
      ]
     },
     "execution_count": 38,
     "metadata": {},
     "output_type": "execute_result"
    }
   ],
   "source": [
    "rep_pvalues"
   ]
  },
  {
   "cell_type": "markdown",
   "metadata": {},
   "source": [
    "### Plotting data and saving plots to output directory"
   ]
  },
  {
   "cell_type": "code",
   "execution_count": 39,
   "metadata": {},
   "outputs": [],
   "source": [
    "def plot_y(punctate_dfs, diffuse_dfs, pDict, yMetric, outpath, log=False):    \n",
    "    hue_order = sorted(table_edits['Date'].unique()[::-1])\n",
    "    figdims = (2.32, 2)\n",
    "    fig = plt.figure(figsize=figdims)\n",
    "\n",
    "    ax1 = fig.add_subplot(1, 2, 1)\n",
    "    ax2 = fig.add_subplot(1, 2, 2)\n",
    "\n",
    "    punctate_table, punctate_means, punctate_reps = punctate_dfs[0], punctate_dfs[1], punctate_dfs[2]\n",
    "    diffuse_table, diffuse_means, diffuse_reps = diffuse_dfs[0], diffuse_dfs[1], diffuse_dfs[2]\n",
    "\n",
    "    the_p_table = punctate_table if plot_rois else punctate_means \n",
    "    the_d_table = diffuse_table if plot_rois else diffuse_means \n",
    "    tempymin = min(the_p_table[yMetric].min(), the_d_table[yMetric].min())\n",
    "    tempymin = tempymin if tempymin < 0 else 0\n",
    "    tempymax = max(the_p_table[yMetric].max(), the_d_table[yMetric].max())\n",
    "\n",
    "    gOrder = [\"young\", \"aged\"]\n",
    "\n",
    "    # Plotting points...\n",
    "    if plot_rois:\n",
    "        sns.stripplot(data=punctate_table, x=\"Group\", y=yMetric, order=gOrder, hue=\"Date\", hue_order=hue_order, jitter=0.3, alpha=0.33, size=0.5, ax=ax1, legend=False, zorder=0)\n",
    "        sns.stripplot(data=diffuse_table, x=\"Group\", y=yMetric, order=gOrder, hue=\"Date\", hue_order=hue_order, jitter=0.3, alpha=0.33, size=0.5, ax=ax2, legend=False, zorder=0)\n",
    "\n",
    "    sns.swarmplot(data=punctate_means, x=\"Group\", y=yMetric, order=gOrder, hue=\"Date\", hue_order=hue_order, size=1, linewidth=0.3, edgecolor='k', ax=ax1, legend=False, zorder = 1)\n",
    "    sns.swarmplot(data=diffuse_means, x=\"Group\", y=yMetric, order=gOrder, hue=\"Date\", hue_order=hue_order, size=1, linewidth=0.3, edgecolor='k', ax=ax2, legend=False, zorder=1)\n",
    "\n",
    "    plot_sem(ax1, 0, 0.15, punctate_means, yMetric, 'young')\n",
    "    plot_sem(ax1, 1, 0.15, punctate_means, yMetric, 'aged')\n",
    "    plot_sem(ax2, 0, 0.15, diffuse_means, yMetric, 'young')\n",
    "    plot_sem(ax2, 1, 0.15, diffuse_means, yMetric, 'aged')\n",
    "\n",
    "    sns.swarmplot(data=punctate_reps, x=\"Group\", y=yMetric, order=gOrder, hue=\"Date\", hue_order=hue_order, size=2.5, linewidth=0.55, edgecolor='k', ax=ax1, legend=False, zorder = 2)\n",
    "    sns.swarmplot(data=diffuse_reps, x=\"Group\", y=yMetric, order=gOrder, hue=\"Date\", hue_order=hue_order, size=2.5, linewidth=0.55, edgecolor='k', ax=ax2, legend=False, zorder = 2)\n",
    "\n",
    "    # Y-Axis formatting\n",
    "    if tempymax < 1:\n",
    "        ymax = tempymax * 1.1\n",
    "    elif tempymax > 1:\n",
    "        ymax = tempymax * 1.1\n",
    "    else:\n",
    "        ymax = 1.1\n",
    "    ax1.set_ylim((tempymin / 1.2, ymax))\n",
    "    ax1.yaxis.set_tick_params(width=0.5, pad=0.35)\n",
    "    ax1.xaxis.set_tick_params(width=0.5, pad=0.5)\n",
    "    ax2.set_ylim(ax1.get_ylim())\n",
    "    ax2.yaxis.set_tick_params(width=0.5, pad=0.35)\n",
    "    ax2.xaxis.set_tick_params(width=0.5, pad=0.5)\n",
    "    ax2.tick_params(labelleft=False)\n",
    "\n",
    "    # X-Axis formatting\n",
    "    ax1.set_xlim(left=-0.5, right=1.5)\n",
    "    ax1.set_xticks([0, 1])\n",
    "    ax1.set_xticklabels([\"P30\\ndays\", \"P24\\nmonths\"])\n",
    "    \n",
    "    ax2.set_xlim(left=-0.5, right=1.5)\n",
    "    ax2.set_xticks([0, 1])\n",
    "    ax2.set_xticklabels([\"P30\\ndays\", \"P24\\nmonths\"])\n",
    "\n",
    "    #Axis labels\n",
    "    ax1.set_xlabel(\"\")\n",
    "    ax1.set_ylabel(process_title(yMetric, keyword))\n",
    "    ax2.set_xlabel(\"\")\n",
    "    ax2.set_ylabel(\"\")\n",
    "    # ax2.legend(hue_order, title=\"Rep\")\n",
    "\n",
    "    # Axis titles\n",
    "    # ax1.set_title(\"Punctate\", weight = 'bold')\n",
    "    # ax2.set_title(\"Diffuse\", weight = 'bold')\n",
    "\n",
    "    # Legend formatting\n",
    "    if legend:\n",
    "        markers = [Line2D(range(1), range(1), linewidth=0, marker='o', markersize=1, markerfacecolor='#e4e4e4', markeredgecolor=\"k\", markeredgewidth=0.3),\n",
    "                Line2D(range(1), range(1), linewidth=0, marker='o', markersize=2.5, markerfacecolor='#e4e4e4', markeredgecolor=\"k\", markeredgewidth=0.55),]\n",
    "        marker_labels = [\"Single Cell All-ROI Mean\", \n",
    "                        \"Single Rep All-ROI Mean\"]\n",
    "        markers.insert(0, Line2D(range(1), range(1), linewidth=0, marker='o', markersize=0.5, markerfacecolor='#e4e4e4', markeredgecolor=\"k\", markeredgewidth=0.1)) if plot_rois else '' \n",
    "        marker_labels.insert(0, \"Individual ROI\") if plot_rois else ''\n",
    "        lgnd = ax2.legend(markers, marker_labels)\n",
    "        bbox_dims = (0.5, -0.4) \n",
    "        sns.move_legend(ax2, \"lower center\", bbox_to_anchor = bbox_dims)\n",
    "\n",
    "    # Graphing p-values\n",
    "    ymax2 = tempymax * 1.05\n",
    "    ax1.plot([0, 1], [ymax2, ymax2], c = 'k', linewidth = 0.5)\n",
    "    ax2.plot([0, 1], [ymax2, ymax2], c = 'k', linewidth = 0.5)\n",
    "    pP, dP = pDict[yMetric][0], pDict[yMetric][1]\n",
    "\n",
    "    ax1.text(0.5, ymax2, f\"{format_p(pP)}\", ha=\"center\", va=\"bottom\", c='k', weight = 'bold')\n",
    "    ax2.text(0.5, ymax2, f\"{format_p(dP)}\", ha=\"center\", va=\"bottom\", c='k', weight = 'bold')\n",
    "\n",
    "    # Final figure formatting\n",
    "    ax1.spines[['right', 'top']].set_visible(False)\n",
    "    ax2.spines[['right', 'top']].set_visible(False)\n",
    "\n",
    "    plt.subplots_adjust(wspace=0.05)\n",
    "    plt.tight_layout()\n",
    "    plt.savefig(os.path.join(outpath, f\"{keyword}_{'all' if plot_rois else ''}ROI-{yMetric}_{aggtype}Agg_{p_eval}Stat.png\"), dpi = 1800)\n",
    "    plt.close()"
   ]
  },
  {
   "cell_type": "code",
   "execution_count": 40,
   "metadata": {},
   "outputs": [],
   "source": [
    "# plt.style.use(\"ggplot\")\n",
    "# plt.rcParams['axes.facecolor']='#e4e4e4'\n",
    "plt.rc('font', family=\"Helvetica Neue\", size=8)\n",
    "plt.rcParams['axes.linewidth'] = 1\n",
    "\n",
    "pDfs = (punctate_table, punctate_means, punctate_reps)\n",
    "dDfs = (diffuse_table, diffuse_means, diffuse_reps)\n",
    "\n",
    "for key, value in rep_dict.items():\n",
    "   if value == \"first\":\n",
    "       continue \n",
    "   #this_log = True if key in [\"Area\", \"Median\", \"Min\", \"Solidity\", \"IntDen\"] else False\n",
    "   plot_y(pDfs, dDfs, rep_pvalues, key, outputpath, log=True)"
   ]
  },
  {
   "cell_type": "code",
   "execution_count": null,
   "metadata": {},
   "outputs": [],
   "source": []
  }
 ],
 "metadata": {
  "kernelspec": {
   "display_name": "datasci",
   "language": "python",
   "name": "python3"
  },
  "language_info": {
   "codemirror_mode": {
    "name": "ipython",
    "version": 3
   },
   "file_extension": ".py",
   "mimetype": "text/x-python",
   "name": "python",
   "nbconvert_exporter": "python",
   "pygments_lexer": "ipython3",
   "version": "3.11.5"
  },
  "vscode": {
   "interpreter": {
    "hash": "430d5210a4fa23cc8bc0e9ce2550a8d815540aecbe231542ecdac8985eddac58"
   }
  }
 },
 "nbformat": 4,
 "nbformat_minor": 2
}
