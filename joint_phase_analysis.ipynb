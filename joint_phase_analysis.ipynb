{
 "cells": [
  {
   "cell_type": "code",
   "execution_count": 19,
   "metadata": {},
   "outputs": [],
   "source": [
    "import os\n",
    "import pandas as pd\n",
    "import numpy as np\n",
    "import math\n",
    "import seaborn as sns\n",
    "from graphing_functions import *\n",
    "from scipy import stats\n",
    "from matplotlib import pyplot as plt\n",
    "from matplotlib import ticker\n",
    "from matplotlib.lines import Line2D"
   ]
  },
  {
   "cell_type": "markdown",
   "metadata": {},
   "source": [
    "### File Inputs"
   ]
  },
  {
   "cell_type": "code",
   "execution_count": 20,
   "metadata": {},
   "outputs": [],
   "source": [
    "# Choose between 'mtDNA' and 'TFAM'\n",
    "keyword = \"TFAM\"\n",
    "\n",
    "# for aggtype, choose between \"mean\" and \"median\".\n",
    "# NOTE: Cell ROIs are always aggregated by median due to skewed distributions \\\n",
    "# This only changes how centrality is calculated for biological replicates\n",
    "aggtype = \"mean\"\n",
    "\n",
    "# for p-eval, choose between \"roi\", \"cell\", and \"rep\"\n",
    "p_eval = \"rep\"\n",
    "plot_rois = False\n",
    "legend = False"
   ]
  },
  {
   "cell_type": "code",
   "execution_count": 21,
   "metadata": {},
   "outputs": [
    {
     "data": {
      "text/html": [
       "<div>\n",
       "<style scoped>\n",
       "    .dataframe tbody tr th:only-of-type {\n",
       "        vertical-align: middle;\n",
       "    }\n",
       "\n",
       "    .dataframe tbody tr th {\n",
       "        vertical-align: top;\n",
       "    }\n",
       "\n",
       "    .dataframe thead th {\n",
       "        text-align: right;\n",
       "    }\n",
       "</style>\n",
       "<table border=\"1\" class=\"dataframe\">\n",
       "  <thead>\n",
       "    <tr style=\"text-align: right;\">\n",
       "      <th></th>\n",
       "      <th>Source</th>\n",
       "      <th>RoiType</th>\n",
       "      <th>Area</th>\n",
       "      <th>Mean</th>\n",
       "      <th>Min</th>\n",
       "      <th>Max</th>\n",
       "      <th>Circ.</th>\n",
       "      <th>IntDen</th>\n",
       "      <th>Median</th>\n",
       "      <th>RawIntDen</th>\n",
       "      <th>AR</th>\n",
       "      <th>Round</th>\n",
       "      <th>Solidity</th>\n",
       "    </tr>\n",
       "  </thead>\n",
       "  <tbody>\n",
       "    <tr>\n",
       "      <th>0</th>\n",
       "      <td>230210_TFAM_aged_i16</td>\n",
       "      <td>punctate</td>\n",
       "      <td>0.479</td>\n",
       "      <td>4.540</td>\n",
       "      <td>0</td>\n",
       "      <td>15</td>\n",
       "      <td>0.494</td>\n",
       "      <td>2.174</td>\n",
       "      <td>3</td>\n",
       "      <td>1607.0</td>\n",
       "      <td>3.560</td>\n",
       "      <td>0.281</td>\n",
       "      <td>0.810</td>\n",
       "    </tr>\n",
       "    <tr>\n",
       "      <th>1</th>\n",
       "      <td>230210_TFAM_aged_i16</td>\n",
       "      <td>punctate</td>\n",
       "      <td>0.049</td>\n",
       "      <td>1.667</td>\n",
       "      <td>0</td>\n",
       "      <td>4</td>\n",
       "      <td>0.998</td>\n",
       "      <td>0.081</td>\n",
       "      <td>2</td>\n",
       "      <td>60.0</td>\n",
       "      <td>1.332</td>\n",
       "      <td>0.751</td>\n",
       "      <td>0.878</td>\n",
       "    </tr>\n",
       "    <tr>\n",
       "      <th>2</th>\n",
       "      <td>230210_TFAM_aged_i16</td>\n",
       "      <td>punctate</td>\n",
       "      <td>0.099</td>\n",
       "      <td>0.000</td>\n",
       "      <td>0</td>\n",
       "      <td>0</td>\n",
       "      <td>0.827</td>\n",
       "      <td>0.000</td>\n",
       "      <td>0</td>\n",
       "      <td>0.0</td>\n",
       "      <td>1.115</td>\n",
       "      <td>0.897</td>\n",
       "      <td>0.869</td>\n",
       "    </tr>\n",
       "    <tr>\n",
       "      <th>3</th>\n",
       "      <td>230210_TFAM_aged_i16</td>\n",
       "      <td>punctate</td>\n",
       "      <td>0.145</td>\n",
       "      <td>6.991</td>\n",
       "      <td>1</td>\n",
       "      <td>14</td>\n",
       "      <td>0.918</td>\n",
       "      <td>1.012</td>\n",
       "      <td>6</td>\n",
       "      <td>748.0</td>\n",
       "      <td>1.734</td>\n",
       "      <td>0.577</td>\n",
       "      <td>0.918</td>\n",
       "    </tr>\n",
       "    <tr>\n",
       "      <th>4</th>\n",
       "      <td>230210_TFAM_aged_i16</td>\n",
       "      <td>punctate</td>\n",
       "      <td>0.199</td>\n",
       "      <td>0.075</td>\n",
       "      <td>0</td>\n",
       "      <td>2</td>\n",
       "      <td>0.780</td>\n",
       "      <td>0.015</td>\n",
       "      <td>0</td>\n",
       "      <td>11.0</td>\n",
       "      <td>2.153</td>\n",
       "      <td>0.465</td>\n",
       "      <td>0.878</td>\n",
       "    </tr>\n",
       "  </tbody>\n",
       "</table>\n",
       "</div>"
      ],
      "text/plain": [
       "                 Source   RoiType   Area   Mean  Min  Max  Circ.  IntDen  \\\n",
       "0  230210_TFAM_aged_i16  punctate  0.479  4.540    0   15  0.494   2.174   \n",
       "1  230210_TFAM_aged_i16  punctate  0.049  1.667    0    4  0.998   0.081   \n",
       "2  230210_TFAM_aged_i16  punctate  0.099  0.000    0    0  0.827   0.000   \n",
       "3  230210_TFAM_aged_i16  punctate  0.145  6.991    1   14  0.918   1.012   \n",
       "4  230210_TFAM_aged_i16  punctate  0.199  0.075    0    2  0.780   0.015   \n",
       "\n",
       "   Median  RawIntDen     AR  Round  Solidity  \n",
       "0       3     1607.0  3.560  0.281     0.810  \n",
       "1       2       60.0  1.332  0.751     0.878  \n",
       "2       0        0.0  1.115  0.897     0.869  \n",
       "3       6      748.0  1.734  0.577     0.918  \n",
       "4       0       11.0  2.153  0.465     0.878  "
      ]
     },
     "execution_count": 21,
     "metadata": {},
     "output_type": "execute_result"
    }
   ],
   "source": [
    "table = pd.read_csv(f\"/Volumes/Shares/SFU/Xiutang/Xiutang-Alex experiments/Project-mtDNA and aging/Aim 2/Aim 2.2/Aim 2.2-1 Quant DRG Punct/results/updated analysis/240222_analysis/{keyword}/roi_data.csv\")\n",
    "outputpath = \"/Volumes/Shares/SFU/Xiutang/Xiutang-Alex experiments/Project-mtDNA and aging/Aim 2/Aim 2.2/Aim 2.2-1 Quant DRG Punct/results/updated analysis/240222_analysis/joint_phase\"\n",
    "# table = pd.read_csv(f\"Z://SFU/Xiutang/Xiutang-Alex experiments/Project-mtDNA and aging/Aim 2/Aim 2.2/Aim 2.2-1 Quant DRG Punct/results/updated analysis/240222_analysis/{keyword}/roi_data.csv\")\n",
    "# outputpath = \"Z://SFU/Xiutang/Xiutang-Alex experiments/Project-mtDNA and aging/Aim 2/Aim 2.2/Aim 2.2-1 Quant DRG Punct/results/updated analysis/240222_analysis/joint_phase\"\n",
    "table.head()"
   ]
  },
  {
   "cell_type": "code",
   "execution_count": 22,
   "metadata": {},
   "outputs": [
    {
     "name": "stdout",
     "output_type": "stream",
     "text": [
      "Table shape (16401, 15)\n"
     ]
    },
    {
     "data": {
      "text/html": [
       "<div>\n",
       "<style scoped>\n",
       "    .dataframe tbody tr th:only-of-type {\n",
       "        vertical-align: middle;\n",
       "    }\n",
       "\n",
       "    .dataframe tbody tr th {\n",
       "        vertical-align: top;\n",
       "    }\n",
       "\n",
       "    .dataframe thead th {\n",
       "        text-align: right;\n",
       "    }\n",
       "</style>\n",
       "<table border=\"1\" class=\"dataframe\">\n",
       "  <thead>\n",
       "    <tr style=\"text-align: right;\">\n",
       "      <th></th>\n",
       "      <th>Source</th>\n",
       "      <th>RoiType</th>\n",
       "      <th>Area</th>\n",
       "      <th>Mean</th>\n",
       "      <th>Min</th>\n",
       "      <th>Max</th>\n",
       "      <th>Circ.</th>\n",
       "      <th>IntDen</th>\n",
       "      <th>Median</th>\n",
       "      <th>RawIntDen</th>\n",
       "      <th>AR</th>\n",
       "      <th>Round</th>\n",
       "      <th>Solidity</th>\n",
       "      <th>Group</th>\n",
       "      <th>Date</th>\n",
       "    </tr>\n",
       "  </thead>\n",
       "  <tbody>\n",
       "    <tr>\n",
       "      <th>0</th>\n",
       "      <td>230210_TFAM_aged_i16</td>\n",
       "      <td>punctate</td>\n",
       "      <td>0.479</td>\n",
       "      <td>4.540</td>\n",
       "      <td>0</td>\n",
       "      <td>15</td>\n",
       "      <td>0.494</td>\n",
       "      <td>2.174</td>\n",
       "      <td>3</td>\n",
       "      <td>1607.0</td>\n",
       "      <td>3.560</td>\n",
       "      <td>0.281</td>\n",
       "      <td>0.810</td>\n",
       "      <td>aged</td>\n",
       "      <td>230210</td>\n",
       "    </tr>\n",
       "    <tr>\n",
       "      <th>1</th>\n",
       "      <td>230210_TFAM_aged_i16</td>\n",
       "      <td>punctate</td>\n",
       "      <td>0.049</td>\n",
       "      <td>1.667</td>\n",
       "      <td>0</td>\n",
       "      <td>4</td>\n",
       "      <td>0.998</td>\n",
       "      <td>0.081</td>\n",
       "      <td>2</td>\n",
       "      <td>60.0</td>\n",
       "      <td>1.332</td>\n",
       "      <td>0.751</td>\n",
       "      <td>0.878</td>\n",
       "      <td>aged</td>\n",
       "      <td>230210</td>\n",
       "    </tr>\n",
       "    <tr>\n",
       "      <th>2</th>\n",
       "      <td>230210_TFAM_aged_i16</td>\n",
       "      <td>punctate</td>\n",
       "      <td>0.099</td>\n",
       "      <td>0.000</td>\n",
       "      <td>0</td>\n",
       "      <td>0</td>\n",
       "      <td>0.827</td>\n",
       "      <td>0.000</td>\n",
       "      <td>0</td>\n",
       "      <td>0.0</td>\n",
       "      <td>1.115</td>\n",
       "      <td>0.897</td>\n",
       "      <td>0.869</td>\n",
       "      <td>aged</td>\n",
       "      <td>230210</td>\n",
       "    </tr>\n",
       "    <tr>\n",
       "      <th>3</th>\n",
       "      <td>230210_TFAM_aged_i16</td>\n",
       "      <td>punctate</td>\n",
       "      <td>0.145</td>\n",
       "      <td>6.991</td>\n",
       "      <td>1</td>\n",
       "      <td>14</td>\n",
       "      <td>0.918</td>\n",
       "      <td>1.012</td>\n",
       "      <td>6</td>\n",
       "      <td>748.0</td>\n",
       "      <td>1.734</td>\n",
       "      <td>0.577</td>\n",
       "      <td>0.918</td>\n",
       "      <td>aged</td>\n",
       "      <td>230210</td>\n",
       "    </tr>\n",
       "    <tr>\n",
       "      <th>4</th>\n",
       "      <td>230210_TFAM_aged_i16</td>\n",
       "      <td>punctate</td>\n",
       "      <td>0.199</td>\n",
       "      <td>0.075</td>\n",
       "      <td>0</td>\n",
       "      <td>2</td>\n",
       "      <td>0.780</td>\n",
       "      <td>0.015</td>\n",
       "      <td>0</td>\n",
       "      <td>11.0</td>\n",
       "      <td>2.153</td>\n",
       "      <td>0.465</td>\n",
       "      <td>0.878</td>\n",
       "      <td>aged</td>\n",
       "      <td>230210</td>\n",
       "    </tr>\n",
       "  </tbody>\n",
       "</table>\n",
       "</div>"
      ],
      "text/plain": [
       "                 Source   RoiType   Area   Mean  Min  Max  Circ.  IntDen  \\\n",
       "0  230210_TFAM_aged_i16  punctate  0.479  4.540    0   15  0.494   2.174   \n",
       "1  230210_TFAM_aged_i16  punctate  0.049  1.667    0    4  0.998   0.081   \n",
       "2  230210_TFAM_aged_i16  punctate  0.099  0.000    0    0  0.827   0.000   \n",
       "3  230210_TFAM_aged_i16  punctate  0.145  6.991    1   14  0.918   1.012   \n",
       "4  230210_TFAM_aged_i16  punctate  0.199  0.075    0    2  0.780   0.015   \n",
       "\n",
       "   Median  RawIntDen     AR  Round  Solidity Group    Date  \n",
       "0       3     1607.0  3.560  0.281     0.810  aged  230210  \n",
       "1       2       60.0  1.332  0.751     0.878  aged  230210  \n",
       "2       0        0.0  1.115  0.897     0.869  aged  230210  \n",
       "3       6      748.0  1.734  0.577     0.918  aged  230210  \n",
       "4       0       11.0  2.153  0.465     0.878  aged  230210  "
      ]
     },
     "execution_count": 22,
     "metadata": {},
     "output_type": "execute_result"
    }
   ],
   "source": [
    "table_edits = table\n",
    "table_edits['Group'] = table['Source'].str.split(\"_\").str[2]\n",
    "table_edits['Date'] = table['Source'].str.split('_').str[0]\n",
    "print(f\"Table shape {table_edits.shape}\")\n",
    "table_edits.head()"
   ]
  },
  {
   "cell_type": "markdown",
   "metadata": {},
   "source": [
    "### Removal of Outliers"
   ]
  },
  {
   "cell_type": "markdown",
   "metadata": {},
   "source": [
    "1. Removal of cells with visually defective AI predictions from the dataset"
   ]
  },
  {
   "cell_type": "code",
   "execution_count": 23,
   "metadata": {},
   "outputs": [
    {
     "name": "stdout",
     "output_type": "stream",
     "text": [
      "16401 rois before cell removal\n",
      "15249 rois after removal\n",
      "1152 rois removed\n"
     ]
    }
   ],
   "source": [
    "poor_predictions = {\n",
    "    # 64 mtDNA images - 5 = 59 images left\n",
    "    'mtDNA': ['221207_mtDNA_young_i3', '230727_mtDNA_young_i3', \n",
    "              '230731_mtDNA_aged_i14l', '230731_mtDNA_aged_14u', \n",
    "              '230731_mtDNA_aged_i18'],\n",
    "    # 30 TFAM images - 2 images = 28 images left\n",
    "    'TFAM': ['230210_TFAM_aged_i26', '230210_TFAM_aged_i25']\n",
    "}\n",
    "\n",
    "before_count = table_edits.shape[0]\n",
    "print(f\"{before_count} rois before cell removal\")\n",
    "for cell in poor_predictions[keyword]:\n",
    "    table_edits = table_edits[table_edits['Source'] != cell]\n",
    "print(f\"{table_edits.shape[0]} rois after removal\")\n",
    "print(f\"{before_count - table_edits.shape[0]} rois removed\")"
   ]
  },
  {
   "cell_type": "markdown",
   "metadata": {},
   "source": [
    "2. Removal of outliers via 1.5 IQR"
   ]
  },
  {
   "cell_type": "markdown",
   "metadata": {},
   "source": [
    "Checking distribution of punctate ROI area prior to outlier removal"
   ]
  },
  {
   "cell_type": "code",
   "execution_count": 24,
   "metadata": {},
   "outputs": [
    {
     "data": {
      "text/plain": [
       "<Axes: xlabel='Area', ylabel='Density'>"
      ]
     },
     "execution_count": 24,
     "metadata": {},
     "output_type": "execute_result"
    },
    {
     "data": {
      "image/png": "[encoded data removed]",
      "text/plain": [
       "<Figure size 640x480 with 1 Axes>"
      ]
     },
     "metadata": {},
     "output_type": "display_data"
    }
   ],
   "source": [
    "sns.kdeplot(data=table_edits['Area'])"
   ]
  },
  {
   "cell_type": "code",
   "execution_count": 25,
   "metadata": {},
   "outputs": [
    {
     "data": {
      "text/html": [
       "<div>\n",
       "<style scoped>\n",
       "    .dataframe tbody tr th:only-of-type {\n",
       "        vertical-align: middle;\n",
       "    }\n",
       "\n",
       "    .dataframe tbody tr th {\n",
       "        vertical-align: top;\n",
       "    }\n",
       "\n",
       "    .dataframe thead th {\n",
       "        text-align: right;\n",
       "    }\n",
       "</style>\n",
       "<table border=\"1\" class=\"dataframe\">\n",
       "  <thead>\n",
       "    <tr style=\"text-align: right;\">\n",
       "      <th></th>\n",
       "      <th>outlier#</th>\n",
       "      <th>outlier%</th>\n",
       "    </tr>\n",
       "  </thead>\n",
       "  <tbody>\n",
       "    <tr>\n",
       "      <th>Source</th>\n",
       "      <td>0</td>\n",
       "      <td>0.0</td>\n",
       "    </tr>\n",
       "    <tr>\n",
       "      <th>RoiType</th>\n",
       "      <td>0</td>\n",
       "      <td>0.0</td>\n",
       "    </tr>\n",
       "    <tr>\n",
       "      <th>Area</th>\n",
       "      <td>1943</td>\n",
       "      <td>13.0</td>\n",
       "    </tr>\n",
       "    <tr>\n",
       "      <th>Mean</th>\n",
       "      <td>2193</td>\n",
       "      <td>14.0</td>\n",
       "    </tr>\n",
       "    <tr>\n",
       "      <th>Min</th>\n",
       "      <td>655</td>\n",
       "      <td>4.0</td>\n",
       "    </tr>\n",
       "    <tr>\n",
       "      <th>Max</th>\n",
       "      <td>1338</td>\n",
       "      <td>9.0</td>\n",
       "    </tr>\n",
       "    <tr>\n",
       "      <th>Circ.</th>\n",
       "      <td>1262</td>\n",
       "      <td>8.0</td>\n",
       "    </tr>\n",
       "    <tr>\n",
       "      <th>IntDen</th>\n",
       "      <td>2080</td>\n",
       "      <td>14.0</td>\n",
       "    </tr>\n",
       "    <tr>\n",
       "      <th>Median</th>\n",
       "      <td>2240</td>\n",
       "      <td>15.0</td>\n",
       "    </tr>\n",
       "    <tr>\n",
       "      <th>RawIntDen</th>\n",
       "      <td>2039</td>\n",
       "      <td>13.0</td>\n",
       "    </tr>\n",
       "    <tr>\n",
       "      <th>AR</th>\n",
       "      <td>1835</td>\n",
       "      <td>12.0</td>\n",
       "    </tr>\n",
       "    <tr>\n",
       "      <th>Round</th>\n",
       "      <td>408</td>\n",
       "      <td>3.0</td>\n",
       "    </tr>\n",
       "    <tr>\n",
       "      <th>Solidity</th>\n",
       "      <td>1866</td>\n",
       "      <td>12.0</td>\n",
       "    </tr>\n",
       "    <tr>\n",
       "      <th>Group</th>\n",
       "      <td>0</td>\n",
       "      <td>0.0</td>\n",
       "    </tr>\n",
       "    <tr>\n",
       "      <th>Date</th>\n",
       "      <td>0</td>\n",
       "      <td>0.0</td>\n",
       "    </tr>\n",
       "  </tbody>\n",
       "</table>\n",
       "</div>"
      ],
      "text/plain": [
       "           outlier#  outlier%\n",
       "Source            0       0.0\n",
       "RoiType           0       0.0\n",
       "Area           1943      13.0\n",
       "Mean           2193      14.0\n",
       "Min             655       4.0\n",
       "Max            1338       9.0\n",
       "Circ.          1262       8.0\n",
       "IntDen         2080      14.0\n",
       "Median         2240      15.0\n",
       "RawIntDen      2039      13.0\n",
       "AR             1835      12.0\n",
       "Round           408       3.0\n",
       "Solidity       1866      12.0\n",
       "Group             0       0.0\n",
       "Date              0       0.0"
      ]
     },
     "execution_count": 25,
     "metadata": {},
     "output_type": "execute_result"
    }
   ],
   "source": [
    "#2.2 - removal of rois for each dataset using z-score\n",
    "no_outlier = iqr_removal(table_edits)\n",
    "na = no_outlier.isna().sum()\n",
    "\n",
    "summary = pd.concat([na, round(na / table_edits.shape[0] * 100)], axis = 1)\n",
    "summary.columns = ['outlier#', 'outlier%']\n",
    "summary"
   ]
  },
  {
   "cell_type": "markdown",
   "metadata": {},
   "source": [
    "Checking distribution for punctate ROI after outlier removal"
   ]
  },
  {
   "cell_type": "code",
   "execution_count": 26,
   "metadata": {},
   "outputs": [
    {
     "data": {
      "text/plain": [
       "<Axes: xlabel='Area', ylabel='Density'>"
      ]
     },
     "execution_count": 26,
     "metadata": {},
     "output_type": "execute_result"
    },
    {
     "data": {
      "image/png": "[encoded data removed]",
      "text/plain": [
       "<Figure size 640x480 with 1 Axes>"
      ]
     },
     "metadata": {},
     "output_type": "display_data"
    }
   ],
   "source": [
    "sns.kdeplot(data=no_outlier['Area'])"
   ]
  },
  {
   "cell_type": "code",
   "execution_count": 27,
   "metadata": {},
   "outputs": [],
   "source": [
    "# no_outlier = no_outlier[[\"Source\", \"Date\", \"Group\", \"RoiType\", \"Area\", \"Mean\", \"Min\", \"Max\",\n",
    "#                             \"Circ.\", \"IntDen\", \"Median\", \"RawIntDen\", \"AR\", \"Round\", \"Solidity\"]].dropna()\n",
    "no_outlier = no_outlier[[\"Source\", \"Date\", \"Group\", \"RoiType\", \"Area\", \"Mean\", \"Circ.\"]].dropna()"
   ]
  },
  {
   "cell_type": "code",
   "execution_count": 28,
   "metadata": {},
   "outputs": [
    {
     "name": "stdout",
     "output_type": "stream",
     "text": [
      "(11015, 7)\n"
     ]
    }
   ],
   "source": [
    "print(no_outlier.shape)\n",
    "no_outlier.to_csv(os.path.join(outputpath, f\"{keyword}_ROIs_jointPhase_noOutlier.csv\"))"
   ]
  },
  {
   "cell_type": "markdown",
   "metadata": {},
   "source": [
    "### Grouping and Aggregating Data"
   ]
  },
  {
   "cell_type": "markdown",
   "metadata": {},
   "source": [
    "First at the level of an individual cell"
   ]
  },
  {
   "cell_type": "code",
   "execution_count": 29,
   "metadata": {},
   "outputs": [
    {
     "data": {
      "text/html": [
       "<div>\n",
       "<style scoped>\n",
       "    .dataframe tbody tr th:only-of-type {\n",
       "        vertical-align: middle;\n",
       "    }\n",
       "\n",
       "    .dataframe tbody tr th {\n",
       "        vertical-align: top;\n",
       "    }\n",
       "\n",
       "    .dataframe thead th {\n",
       "        text-align: right;\n",
       "    }\n",
       "</style>\n",
       "<table border=\"1\" class=\"dataframe\">\n",
       "  <thead>\n",
       "    <tr style=\"text-align: right;\">\n",
       "      <th></th>\n",
       "      <th>Source</th>\n",
       "      <th>Group</th>\n",
       "      <th>Date</th>\n",
       "      <th>Area</th>\n",
       "      <th>Mean</th>\n",
       "      <th>Circ.</th>\n",
       "    </tr>\n",
       "  </thead>\n",
       "  <tbody>\n",
       "    <tr>\n",
       "      <th>0</th>\n",
       "      <td>230210_TFAM_aged_i16</td>\n",
       "      <td>aged</td>\n",
       "      <td>230210</td>\n",
       "      <td>0.087848</td>\n",
       "      <td>36.053921</td>\n",
       "      <td>0.842067</td>\n",
       "    </tr>\n",
       "    <tr>\n",
       "      <th>1</th>\n",
       "      <td>230210_TFAM_aged_i18</td>\n",
       "      <td>aged</td>\n",
       "      <td>230210</td>\n",
       "      <td>0.091703</td>\n",
       "      <td>36.934636</td>\n",
       "      <td>0.800483</td>\n",
       "    </tr>\n",
       "    <tr>\n",
       "      <th>2</th>\n",
       "      <td>230210_TFAM_aged_i22</td>\n",
       "      <td>aged</td>\n",
       "      <td>230210</td>\n",
       "      <td>0.093146</td>\n",
       "      <td>56.339603</td>\n",
       "      <td>0.835819</td>\n",
       "    </tr>\n",
       "    <tr>\n",
       "      <th>3</th>\n",
       "      <td>230210_TFAM_aged_i23</td>\n",
       "      <td>aged</td>\n",
       "      <td>230210</td>\n",
       "      <td>0.076935</td>\n",
       "      <td>50.263991</td>\n",
       "      <td>0.792608</td>\n",
       "    </tr>\n",
       "    <tr>\n",
       "      <th>4</th>\n",
       "      <td>230217_TFAM_aged_i25</td>\n",
       "      <td>aged</td>\n",
       "      <td>230217</td>\n",
       "      <td>0.076531</td>\n",
       "      <td>63.884397</td>\n",
       "      <td>0.824647</td>\n",
       "    </tr>\n",
       "  </tbody>\n",
       "</table>\n",
       "</div>"
      ],
      "text/plain": [
       "                 Source Group    Date      Area       Mean     Circ.\n",
       "0  230210_TFAM_aged_i16  aged  230210  0.087848  36.053921  0.842067\n",
       "1  230210_TFAM_aged_i18  aged  230210  0.091703  36.934636  0.800483\n",
       "2  230210_TFAM_aged_i22  aged  230210  0.093146  56.339603  0.835819\n",
       "3  230210_TFAM_aged_i23  aged  230210  0.076935  50.263991  0.792608\n",
       "4  230217_TFAM_aged_i25  aged  230217  0.076531  63.884397  0.824647"
      ]
     },
     "execution_count": 29,
     "metadata": {},
     "output_type": "execute_result"
    }
   ],
   "source": [
    "cell_dict = {}\n",
    "for header in no_outlier.columns:\n",
    "    if header == \"Source\" or header == \"RoiType\" or header == \"Group\":\n",
    "        continue\n",
    "    elif header == \"Date\":\n",
    "        cell_dict[header] = \"first\"\n",
    "    else:\n",
    "        cell_dict[header] = aggtype\n",
    "\n",
    "cell_means = no_outlier.groupby([\"Source\",\"Group\"]).agg(cell_dict)\n",
    "cell_means = cell_means.reset_index()\n",
    "cell_means.head()"
   ]
  },
  {
   "cell_type": "code",
   "execution_count": 30,
   "metadata": {},
   "outputs": [
    {
     "name": "stdout",
     "output_type": "stream",
     "text": [
      "(27, 6)\n"
     ]
    }
   ],
   "source": [
    "print(cell_means.shape)\n",
    "cell_means.to_csv(os.path.join(outputpath, f\"{keyword}_jointPhase_cellMeans.csv\"))"
   ]
  },
  {
   "cell_type": "markdown",
   "metadata": {},
   "source": [
    "Then at the level of a biological replicate"
   ]
  },
  {
   "cell_type": "code",
   "execution_count": 31,
   "metadata": {},
   "outputs": [
    {
     "data": {
      "text/html": [
       "<div>\n",
       "<style scoped>\n",
       "    .dataframe tbody tr th:only-of-type {\n",
       "        vertical-align: middle;\n",
       "    }\n",
       "\n",
       "    .dataframe tbody tr th {\n",
       "        vertical-align: top;\n",
       "    }\n",
       "\n",
       "    .dataframe thead th {\n",
       "        text-align: right;\n",
       "    }\n",
       "</style>\n",
       "<table border=\"1\" class=\"dataframe\">\n",
       "  <thead>\n",
       "    <tr style=\"text-align: right;\">\n",
       "      <th></th>\n",
       "      <th>Date</th>\n",
       "      <th>Group</th>\n",
       "      <th>Source</th>\n",
       "      <th>Area</th>\n",
       "      <th>Mean</th>\n",
       "      <th>Circ.</th>\n",
       "    </tr>\n",
       "  </thead>\n",
       "  <tbody>\n",
       "    <tr>\n",
       "      <th>0</th>\n",
       "      <td>230210</td>\n",
       "      <td>aged</td>\n",
       "      <td>230210_TFAM_aged_i16</td>\n",
       "      <td>0.087408</td>\n",
       "      <td>44.898038</td>\n",
       "      <td>0.817744</td>\n",
       "    </tr>\n",
       "    <tr>\n",
       "      <th>1</th>\n",
       "      <td>230217</td>\n",
       "      <td>aged</td>\n",
       "      <td>230217_TFAM_aged_i25</td>\n",
       "      <td>0.076727</td>\n",
       "      <td>59.648476</td>\n",
       "      <td>0.833151</td>\n",
       "    </tr>\n",
       "    <tr>\n",
       "      <th>2</th>\n",
       "      <td>230224</td>\n",
       "      <td>young</td>\n",
       "      <td>230224_TFAM_young_i15</td>\n",
       "      <td>0.075306</td>\n",
       "      <td>70.513369</td>\n",
       "      <td>0.870899</td>\n",
       "    </tr>\n",
       "    <tr>\n",
       "      <th>3</th>\n",
       "      <td>230726</td>\n",
       "      <td>young</td>\n",
       "      <td>230726_TFAM_young_i1</td>\n",
       "      <td>0.077922</td>\n",
       "      <td>61.454153</td>\n",
       "      <td>0.865575</td>\n",
       "    </tr>\n",
       "    <tr>\n",
       "      <th>4</th>\n",
       "      <td>230727</td>\n",
       "      <td>young</td>\n",
       "      <td>230727_TFAM_young_i11</td>\n",
       "      <td>0.077190</td>\n",
       "      <td>68.771532</td>\n",
       "      <td>0.865683</td>\n",
       "    </tr>\n",
       "  </tbody>\n",
       "</table>\n",
       "</div>"
      ],
      "text/plain": [
       "     Date  Group                 Source      Area       Mean     Circ.\n",
       "0  230210   aged   230210_TFAM_aged_i16  0.087408  44.898038  0.817744\n",
       "1  230217   aged   230217_TFAM_aged_i25  0.076727  59.648476  0.833151\n",
       "2  230224  young  230224_TFAM_young_i15  0.075306  70.513369  0.870899\n",
       "3  230726  young   230726_TFAM_young_i1  0.077922  61.454153  0.865575\n",
       "4  230727  young  230727_TFAM_young_i11  0.077190  68.771532  0.865683"
      ]
     },
     "execution_count": 31,
     "metadata": {},
     "output_type": "execute_result"
    }
   ],
   "source": [
    "rep_dict = {}\n",
    "# for header in no_outlier.columns:\n",
    "for header in cell_means.columns:\n",
    "    if header == \"Date\" or header == \"RoiType\" or header == \"Group\":\n",
    "        continue\n",
    "    elif header == \"Source\":\n",
    "        rep_dict[header] = \"first\"\n",
    "    else:\n",
    "        rep_dict[header] = aggtype\n",
    "\n",
    "rep_means = cell_means.groupby([\"Date\",\"Group\"]).agg(rep_dict)\n",
    "rep_means = rep_means.reset_index()\n",
    "rep_means.head()"
   ]
  },
  {
   "cell_type": "code",
   "execution_count": 32,
   "metadata": {},
   "outputs": [
    {
     "name": "stdout",
     "output_type": "stream",
     "text": [
      "(6, 6)\n"
     ]
    }
   ],
   "source": [
    "print(rep_means.shape)\n",
    "rep_means.to_csv(os.path.join(outputpath, f\"{keyword}_jointPhase_repMeans.csv\"))"
   ]
  },
  {
   "cell_type": "markdown",
   "metadata": {},
   "source": [
    "### Computing p-values to be graphed"
   ]
  },
  {
   "cell_type": "code",
   "execution_count": 33,
   "metadata": {},
   "outputs": [
    {
     "name": "stdout",
     "output_type": "stream",
     "text": [
      "dict_items([('Source', 'first'), ('Area', 'mean'), ('Mean', 'mean'), ('Circ.', 'mean')])\n"
     ]
    }
   ],
   "source": [
    "rep_pvalues = {}\n",
    "if p_eval == 'roi':\n",
    "   pdict = no_outlier\n",
    "elif p_eval == 'cell':\n",
    "   pdict = cell_means\n",
    "elif p_eval == 'rep':\n",
    "   pdict = rep_means\n",
    "else:\n",
    "   raise ValueError(f\"p_eval value '{p_eval}' not recognized. Please choose between 'roi', 'cell', and 'rep'\")\n",
    "\n",
    "print(rep_dict.items())\n",
    "for key, value in rep_dict.items():\n",
    "    if value == \"first\":\n",
    "       continue \n",
    "    pYoung = pdict[pdict[\"Group\"] == 'young'][key]\n",
    "    pAged = pdict[pdict[\"Group\"] == 'aged'][key]\n",
    "    pP = stats.mannwhitneyu(pYoung, pAged)[1]\n",
    "\n",
    "    pP = round(pP, 10)\n",
    "    rep_pvalues[key] = pP"
   ]
  },
  {
   "cell_type": "code",
   "execution_count": 34,
   "metadata": {},
   "outputs": [
    {
     "data": {
      "text/plain": [
       "{'Area': 0.4, 'Mean': 0.1, 'Circ.': 0.1}"
      ]
     },
     "execution_count": 34,
     "metadata": {},
     "output_type": "execute_result"
    }
   ],
   "source": [
    "rep_pvalues"
   ]
  },
  {
   "cell_type": "markdown",
   "metadata": {},
   "source": [
    "### Plotting data and saving plots to output directory"
   ]
  },
  {
   "cell_type": "code",
   "execution_count": 35,
   "metadata": {},
   "outputs": [],
   "source": [
    "def plot_y(pDict, yMetric, outpath, log=False):    \n",
    "    hue_order = sorted(table_edits['Date'].unique()[::-1])\n",
    "    fig = plt.figure(figsize=(1.5,2))\n",
    "\n",
    "    ax1 = fig.add_subplot(1, 1, 1)\n",
    "\n",
    "    gOrder = [\"young\", \"aged\"]\n",
    "\n",
    "    maxtable = cell_means if not plot_rois else no_outlier\n",
    "    tempymin = maxtable[yMetric].min()\n",
    "    tempymax = maxtable[yMetric].max()\n",
    "\n",
    "    # Plotting points...\n",
    "    if plot_rois:\n",
    "        sns.stripplot(data=no_outlier, x=\"Group\", y=yMetric, order=gOrder, hue=\"Date\", hue_order=hue_order, jitter=0.3, alpha=0.33, size=0.5, ax=ax1, legend=False, zorder=0)\n",
    "\n",
    "    sns.swarmplot(data=cell_means, x=\"Group\", y=yMetric, order=gOrder, hue=\"Date\", hue_order=hue_order, size=1, linewidth=0.3, ax=ax1, legend=False, zorder=1)\n",
    "\n",
    "    plot_sem(ax1, 0, 0.15, cell_means, yMetric, 'young')\n",
    "    plot_sem(ax1, 1, 0.15, cell_means, yMetric, 'aged')\n",
    "\n",
    "    sns.swarmplot(data=rep_means, x=\"Group\", y=yMetric, order=gOrder, hue=\"Date\", hue_order=hue_order, size=2.5, linewidth=0.55, ax=ax1, legend=False, zorder=2)\n",
    "\n",
    "    # Y-Axis formatting\n",
    "    if tempymax < 1:\n",
    "        ymax = tempymax * 1.1\n",
    "    elif tempymax > 1:\n",
    "        ymax = tempymax * 1.1\n",
    "    else:\n",
    "        ymax = 1.1\n",
    "    ax1.set_ylim((tempymin / 1.2, ymax))\n",
    "    ax1.yaxis.set_tick_params(width=0.5, pad=0.35)\n",
    "    ax1.xaxis.set_tick_params(width=0.5, pad=0.5)\n",
    "\n",
    "    # X-Axis formatting\n",
    "    ax1.set_xlim(left=-0.5, right=1.5)\n",
    "    ax1.set_xticks([0, 1])\n",
    "    ax1.set_xticklabels([\"P30\\ndays\", \"P24\\nmonths\"])\n",
    "\n",
    "    # Axis labels\n",
    "    ax1.set_ylabel(process_title(yMetric, keyword))\n",
    "    ax1.set_xlabel(\"\")\n",
    "    ax1.set_title(\"\")\n",
    "\n",
    "    # Legend formatting\n",
    "    if legend:\n",
    "        markers = [Line2D(range(1), range(1), linewidth=0, marker='o', markersize=1, markerfacecolor='#e4e4e4', markeredgecolor=\"gray\"),\n",
    "                Line2D(range(1), range(1), linewidth=0, marker='o', markersize=2, markerfacecolor='#e4e4e4', markeredgecolor=\"gray\"),]\n",
    "        marker_labels = [\"Single Cell All-ROI Mean\", \n",
    "                        \"Single Rep All-ROI Mean\"]\n",
    "        markers.insert(0, Line2D(range(1), range(1), linewidth=0, marker='o', markersize=1, markerfacecolor='#e4e4e4', markeredgecolor=\"gray\")) if plot_rois else '' \n",
    "        marker_labels.insert(0, \"Individual ROI\") if plot_rois else ''\n",
    "        lgnd = ax1.legend(markers, marker_labels) \n",
    "        sns.move_legend(ax1, \"lower center\", bbox_to_anchor = (0.5, -0.29))\n",
    "\n",
    "    # Graphing p-values\n",
    "    ymax2 = tempymax * 1.05\n",
    "    ax1.plot([0, 1], [ymax2, ymax2], c = 'k', linewidth = 0.5)\n",
    "    pP = pDict[yMetric]\n",
    "    ax1.text(0.5, ymax2, f\"{format_p(pP)}\", ha=\"center\", va=\"bottom\", c='k', weight = 'bold')\n",
    "\n",
    "    # Final Figure Formatting\n",
    "    ax1.spines[['right', 'top']].set_visible(False)\n",
    "\n",
    "    plt.subplots_adjust(wspace=0.05)\n",
    "    plt.tight_layout()\n",
    "    plt.savefig(os.path.join(outpath, f\"{keyword}_{'all' if plot_rois else ''}GroupedROI-{yMetric}_{aggtype}Agg_{p_eval}Stat.png\"), dpi=1800)\n",
    "    plt.close()"
   ]
  },
  {
   "cell_type": "code",
   "execution_count": 36,
   "metadata": {},
   "outputs": [],
   "source": [
    "# plt.style.use(\"ggplot\")\n",
    "# plt.rcParams['axes.facecolor']='#e4e4e4'\n",
    "plt.rc('font', family=\"Helvetica Neue\", size=8)\n",
    "plt.rcParams['axes.linewidth'] = 1\n",
    "\n",
    "for key, value in rep_dict.items():\n",
    "   if value == \"first\":\n",
    "       continue \n",
    "   #this_log = True if key in [\"Area\", \"Median\", \"Min\", \"Solidity\", \"IntDen\"] else False\n",
    "   plot_y(rep_pvalues, key, outputpath, log=True)"
   ]
  },
  {
   "cell_type": "code",
   "execution_count": null,
   "metadata": {},
   "outputs": [],
   "source": []
  }
 ],
 "metadata": {
  "kernelspec": {
   "display_name": "datavis",
   "language": "python",
   "name": "python3"
  },
  "language_info": {
   "codemirror_mode": {
    "name": "ipython",
    "version": 3
   },
   "file_extension": ".py",
   "mimetype": "text/x-python",
   "name": "python",
   "nbconvert_exporter": "python",
   "pygments_lexer": "ipython3",
   "version": "3.11.5"
  }
 },
 "nbformat": 4,
 "nbformat_minor": 2
}
